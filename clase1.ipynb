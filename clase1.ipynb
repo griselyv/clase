{
 "cells": [
  {
   "cell_type": "code",
   "execution_count": 212,
   "id": "ebd1314d",
   "metadata": {},
   "outputs": [
    {
     "name": "stdout",
     "output_type": "stream",
     "text": [
      "Hello, World!\n"
     ]
    }
   ],
   "source": [
    "print(\"Hello, World!\")"
   ]
  },
  {
   "cell_type": "code",
   "execution_count": 213,
   "id": "7b8d6f15",
   "metadata": {},
   "outputs": [
    {
     "name": "stdout",
     "output_type": "stream",
     "text": [
      "Bienvenidos a las prácticas de Python\n"
     ]
    }
   ],
   "source": [
    "print(\"Bienvenidos a las prácticas de Python\")"
   ]
  },
  {
   "cell_type": "code",
   "execution_count": null,
   "id": "64de8460",
   "metadata": {},
   "outputs": [],
   "source": []
  },
  {
   "cell_type": "markdown",
   "id": "cbc6eafe",
   "metadata": {},
   "source": [
    "Este es un segmento de texto\n",
    "#Títulos\n",
    "#Subtítulos\n",
    "## Otros Subtítulos"
   ]
  },
  {
   "cell_type": "code",
   "execution_count": null,
   "id": "37c29cac",
   "metadata": {},
   "outputs": [],
   "source": []
  },
  {
   "cell_type": "code",
   "execution_count": 214,
   "id": "a7b8c947",
   "metadata": {},
   "outputs": [],
   "source": [
    "nombre = \"Juan\"\n",
    "edad = 25\n",
    "altura = 1.80\n",
    "es_estudiante = True\n"
   ]
  },
  {
   "cell_type": "code",
   "execution_count": 215,
   "id": "639a5e26",
   "metadata": {},
   "outputs": [
    {
     "name": "stdout",
     "output_type": "stream",
     "text": [
      "25\n"
     ]
    }
   ],
   "source": [
    "print(edad)"
   ]
  },
  {
   "cell_type": "code",
   "execution_count": 216,
   "id": "bee2799d",
   "metadata": {},
   "outputs": [
    {
     "name": "stdout",
     "output_type": "stream",
     "text": [
      "1.8\n"
     ]
    }
   ],
   "source": [
    "print(altura)"
   ]
  },
  {
   "cell_type": "code",
   "execution_count": 217,
   "id": "58b3be90",
   "metadata": {},
   "outputs": [
    {
     "name": "stdout",
     "output_type": "stream",
     "text": [
      "El ususario se llama Juan, tiene 25 años de edad, mide 1.8 metros\n"
     ]
    }
   ],
   "source": [
    "print(f\"El ususario se llama {nombre}, tiene {edad} años de edad, mide {altura} metros\")"
   ]
  },
  {
   "cell_type": "code",
   "execution_count": 218,
   "id": "3aab5ce0",
   "metadata": {},
   "outputs": [
    {
     "name": "stdout",
     "output_type": "stream",
     "text": [
      "Número original: 10\n",
      "Número nuevo: 60\n"
     ]
    }
   ],
   "source": [
    "mi_numero = 10\n",
    "print(f\"Número original: {mi_numero}\")\n",
    "\n",
    "mi_numero = 60\n",
    "print(f\"Número nuevo: {mi_numero}\")"
   ]
  },
  {
   "cell_type": "code",
   "execution_count": 219,
   "id": "90b88e45",
   "metadata": {},
   "outputs": [],
   "source": [
    "num_int1 = 123\n",
    "num_int2 = -57"
   ]
  },
  {
   "cell_type": "code",
   "execution_count": 220,
   "id": "1b097bda",
   "metadata": {},
   "outputs": [],
   "source": [
    "num_float1 = 3.14\n",
    "num_float2 = -0.16"
   ]
  },
  {
   "cell_type": "code",
   "execution_count": 221,
   "id": "88ecaf90",
   "metadata": {},
   "outputs": [],
   "source": [
    "bool_var1 = True\n",
    "bool_var2 = False"
   ]
  },
  {
   "cell_type": "code",
   "execution_count": 222,
   "id": "340bb4cc",
   "metadata": {},
   "outputs": [
    {
     "data": {
      "text/plain": [
       "True"
      ]
     },
     "execution_count": 222,
     "metadata": {},
     "output_type": "execute_result"
    }
   ],
   "source": [
    "bool_var1"
   ]
  },
  {
   "cell_type": "code",
   "execution_count": 223,
   "id": "ecd97485",
   "metadata": {},
   "outputs": [
    {
     "data": {
      "text/plain": [
       "False"
      ]
     },
     "execution_count": 223,
     "metadata": {},
     "output_type": "execute_result"
    }
   ],
   "source": [
    "bool_var1\n",
    "bool_var2"
   ]
  },
  {
   "cell_type": "code",
   "execution_count": 224,
   "id": "3a29221f",
   "metadata": {},
   "outputs": [
    {
     "data": {
      "text/plain": [
       "True"
      ]
     },
     "execution_count": 224,
     "metadata": {},
     "output_type": "execute_result"
    }
   ],
   "source": [
    "bool_var2\n",
    "bool_var1"
   ]
  },
  {
   "cell_type": "code",
   "execution_count": 225,
   "id": "39ceaf7c",
   "metadata": {},
   "outputs": [
    {
     "name": "stdout",
     "output_type": "stream",
     "text": [
      "True\n",
      "False\n"
     ]
    }
   ],
   "source": [
    "print(bool_var1)\n",
    "print(bool_var2)"
   ]
  },
  {
   "cell_type": "code",
   "execution_count": 226,
   "id": "71a5d9a7",
   "metadata": {},
   "outputs": [],
   "source": [
    "list_numbers = [1, 2, 3, 4, 5]\n",
    "list_strings = [\"A\", \"B\", \"C\", \"D\"]"
   ]
  },
  {
   "cell_type": "code",
   "execution_count": 227,
   "id": "397a4dce",
   "metadata": {},
   "outputs": [
    {
     "data": {
      "text/plain": [
       "'A'"
      ]
     },
     "execution_count": 227,
     "metadata": {},
     "output_type": "execute_result"
    }
   ],
   "source": [
    "list_strings[0]"
   ]
  },
  {
   "cell_type": "code",
   "execution_count": 228,
   "id": "d5840ec2",
   "metadata": {},
   "outputs": [
    {
     "data": {
      "text/plain": [
       "1"
      ]
     },
     "execution_count": 228,
     "metadata": {},
     "output_type": "execute_result"
    }
   ],
   "source": [
    "list_numbers[0]"
   ]
  },
  {
   "cell_type": "markdown",
   "id": "11b9ad11",
   "metadata": {},
   "source": [
    "Para una lista (suponer que se llama X)\n",
    " \n",
    "     X = [a1, a2, a3, a4, ..., an]\n",
    "posicion:  0   1  2    3 ..... n-1\n"
   ]
  },
  {
   "cell_type": "code",
   "execution_count": 229,
   "id": "6ce68672",
   "metadata": {},
   "outputs": [
    {
     "data": {
      "text/plain": [
       "'C'"
      ]
     },
     "execution_count": 229,
     "metadata": {},
     "output_type": "execute_result"
    }
   ],
   "source": [
    "list_strings[2]"
   ]
  },
  {
   "cell_type": "code",
   "execution_count": 230,
   "id": "147a8c60",
   "metadata": {},
   "outputs": [],
   "source": [
    "x = 5\n",
    "y = 3\n",
    "z = x + y  # Salida: z = 8\n",
    "z = x * y  # Salida: z = 15"
   ]
  },
  {
   "cell_type": "markdown",
   "id": "f54db35e",
   "metadata": {},
   "source": [
    "Operadores Lógicos"
   ]
  },
  {
   "cell_type": "code",
   "execution_count": 231,
   "id": "9a6ec582",
   "metadata": {},
   "outputs": [
    {
     "data": {
      "text/plain": [
       "False"
      ]
     },
     "execution_count": 231,
     "metadata": {},
     "output_type": "execute_result"
    }
   ],
   "source": [
    "True and False"
   ]
  },
  {
   "cell_type": "code",
   "execution_count": 232,
   "id": "7da42f28",
   "metadata": {},
   "outputs": [
    {
     "data": {
      "text/plain": [
       "True"
      ]
     },
     "execution_count": 232,
     "metadata": {},
     "output_type": "execute_result"
    }
   ],
   "source": [
    "True or False"
   ]
  },
  {
   "cell_type": "code",
   "execution_count": 233,
   "id": "ea440b4a",
   "metadata": {},
   "outputs": [
    {
     "data": {
      "text/plain": [
       "True"
      ]
     },
     "execution_count": 233,
     "metadata": {},
     "output_type": "execute_result"
    }
   ],
   "source": [
    "not False\n",
    "\n"
   ]
  },
  {
   "cell_type": "code",
   "execution_count": 234,
   "id": "bac5d674",
   "metadata": {},
   "outputs": [
    {
     "data": {
      "text/plain": [
       "False"
      ]
     },
     "execution_count": 234,
     "metadata": {},
     "output_type": "execute_result"
    }
   ],
   "source": [
    "not not False"
   ]
  },
  {
   "cell_type": "markdown",
   "id": "2ed8468f",
   "metadata": {},
   "source": [
    "## Estructura de Decisión\n",
    "\n",
    "Si\n",
    "If \"Regla\" : Secoloca la instrucción/operación que hará la máquina"
   ]
  },
  {
   "cell_type": "code",
   "execution_count": 297,
   "id": "e1a3e125",
   "metadata": {},
   "outputs": [
    {
     "name": "stdout",
     "output_type": "stream",
     "text": [
      "Eres mayor de edad\n"
     ]
    }
   ],
   "source": [
    "edad = 45\n",
    "if edad >= 18 :\n",
    "    print(\"Eres mayor de edad\")"
   ]
  },
  {
   "cell_type": "code",
   "execution_count": 298,
   "id": "1a2f14a7",
   "metadata": {},
   "outputs": [
    {
     "data": {
      "text/plain": [
       "True"
      ]
     },
     "execution_count": 298,
     "metadata": {},
     "output_type": "execute_result"
    }
   ],
   "source": [
    "edad >= 18"
   ]
  },
  {
   "cell_type": "markdown",
   "id": "e2dfa33a",
   "metadata": {},
   "source": [
    "Sino, complemento del condicional Si\n",
    "\n",
    "Si (condición):\n",
    "    Lo que haga el programa\n",
    "    \n",
    "en caso contrario (else)\n",
    "    lo que deba hacer"
   ]
  },
  {
   "cell_type": "code",
   "execution_count": 299,
   "id": "b92d4c71",
   "metadata": {},
   "outputs": [
    {
     "name": "stdout",
     "output_type": "stream",
     "text": [
      "Eres mayor de edad\n"
     ]
    }
   ],
   "source": [
    "edad = 45\n",
    "if edad >= 18 :\n",
    "    print(\"Eres mayor de edad\")\n",
    "else:\n",
    "    print(\"No eres mayor de edad\")"
   ]
  },
  {
   "cell_type": "code",
   "execution_count": 300,
   "id": "9c7d4882",
   "metadata": {},
   "outputs": [
    {
     "name": "stdout",
     "output_type": "stream",
     "text": [
      "No eres mayor de edad\n"
     ]
    }
   ],
   "source": [
    "edad = 12\n",
    "if edad >= 18 :\n",
    "    print(\"Eres mayor de edad\")\n",
    "else:\n",
    "    print(\"No eres mayor de edad\")"
   ]
  },
  {
   "cell_type": "markdown",
   "id": "e03412b9",
   "metadata": {},
   "source": [
    "elif es una extensión del if"
   ]
  },
  {
   "cell_type": "code",
   "execution_count": 301,
   "id": "9f1261dc",
   "metadata": {},
   "outputs": [
    {
     "data": {
      "text/plain": [
       "[1, 2, 3, 4, 5, 6, 7, 8, 9, 10]"
      ]
     },
     "execution_count": 301,
     "metadata": {},
     "output_type": "execute_result"
    }
   ],
   "source": [
    "X = [1,2,3,4,5,6,7,8,9,10]\n",
    "X"
   ]
  },
  {
   "cell_type": "code",
   "execution_count": 302,
   "id": "aa344971",
   "metadata": {},
   "outputs": [
    {
     "data": {
      "text/plain": [
       "10.0"
      ]
     },
     "execution_count": 302,
     "metadata": {},
     "output_type": "execute_result"
    }
   ],
   "source": [
    "20/2"
   ]
  },
  {
   "cell_type": "code",
   "execution_count": 303,
   "id": "b5b1ae5b",
   "metadata": {},
   "outputs": [
    {
     "data": {
      "text/plain": [
       "0"
      ]
     },
     "execution_count": 303,
     "metadata": {},
     "output_type": "execute_result"
    }
   ],
   "source": [
    "20%2"
   ]
  },
  {
   "cell_type": "code",
   "execution_count": 304,
   "id": "f8da4b2f",
   "metadata": {},
   "outputs": [
    {
     "data": {
      "text/plain": [
       "1"
      ]
     },
     "execution_count": 304,
     "metadata": {},
     "output_type": "execute_result"
    }
   ],
   "source": [
    "X[0]"
   ]
  },
  {
   "cell_type": "code",
   "execution_count": 305,
   "id": "cc1fc7bc",
   "metadata": {},
   "outputs": [
    {
     "name": "stdout",
     "output_type": "stream",
     "text": [
      "El número no es divisible por 3 y su resto es 1\n"
     ]
    }
   ],
   "source": [
    "if X[0]%23 == 0:\n",
    "    print(\"El número es divisible por 3 y su resto es 0\")\n",
    "elif X[0]%3 == 1:\n",
    "    print(\"El número no es divisible por 3 y su resto es 1\") \n",
    "else:\n",
    "    print(\"El número no es divisible por 3 y su resto es 2\")       "
   ]
  },
  {
   "cell_type": "code",
   "execution_count": 306,
   "id": "516462c5",
   "metadata": {},
   "outputs": [
    {
     "name": "stdout",
     "output_type": "stream",
     "text": [
      "El número es divisible por 3 y su resto es 0\n"
     ]
    }
   ],
   "source": [
    "j = 5\n",
    "\n",
    "if X[j] % 3 == 0:\n",
    "    print(\"El número es divisible por 3 y su resto es 0\")\n",
    "elif X[j] % 3 == 1:\n",
    "    print(\"El número no es divisible por 3 y su resto es 1\") \n",
    "else:\n",
    "    print(\"El número no es divisible por 3 y su resto es 2\")       "
   ]
  },
  {
   "cell_type": "markdown",
   "id": "c9eb44c0",
   "metadata": {},
   "source": [
    "Estructuras de repetición (bucles)"
   ]
  },
  {
   "cell_type": "code",
   "execution_count": 307,
   "id": "0bc3eb73",
   "metadata": {},
   "outputs": [
    {
     "name": "stdout",
     "output_type": "stream",
     "text": [
      "0\n",
      "1\n",
      "2\n",
      "3\n",
      "4\n"
     ]
    }
   ],
   "source": [
    "for i in range(5):\n",
    "    print(i)\n"
   ]
  },
  {
   "cell_type": "code",
   "execution_count": 308,
   "id": "33cb05c1",
   "metadata": {},
   "outputs": [
    {
     "name": "stdout",
     "output_type": "stream",
     "text": [
      "manzana\n",
      "banana\n",
      "cereza\n"
     ]
    }
   ],
   "source": [
    "frutas = [\"manzana\", \"banana\", \"cereza\"]\n",
    "for x in frutas:\n",
    "    print(x)"
   ]
  },
  {
   "cell_type": "code",
   "execution_count": 309,
   "id": "a6875f96",
   "metadata": {},
   "outputs": [
    {
     "name": "stdout",
     "output_type": "stream",
     "text": [
      "El número 1 no es divisible por 3 y su resto es 1\n",
      "El número 2 no es divisible por 3 y su resto es 2\n",
      "El número 3 es divisible por 3 y su resto es 0\n",
      "El número 4 no es divisible por 3 y su resto es 1\n",
      "El número 5 no es divisible por 3 y su resto es 2\n",
      "El número 6 es divisible por 3 y su resto es 0\n",
      "El número 7 no es divisible por 3 y su resto es 1\n",
      "El número 8 no es divisible por 3 y su resto es 2\n",
      "El número 9 es divisible por 3 y su resto es 0\n",
      "El número 10 no es divisible por 3 y su resto es 1\n"
     ]
    }
   ],
   "source": [
    "# Tratar de modificar la estructura para que funcones y diga si los elementos son divisibles por 3\n",
    "X = [1,2,3,4,5,6,7,8,9,10]\n",
    "\n",
    "for j in X:\n",
    "    if j % 3 == 0:\n",
    "        print(f\"El número {j} es divisible por 3 y su resto es 0\")\n",
    "    elif j % 3 == 1:\n",
    "        print(f\"El número {j} no es divisible por 3 y su resto es 1\") \n",
    "    else:\n",
    "        print(f\"El número {j} no es divisible por 3 y su resto es 2\")       "
   ]
  },
  {
   "cell_type": "code",
   "execution_count": null,
   "id": "2c1cdd37",
   "metadata": {},
   "outputs": [],
   "source": []
  },
  {
   "cell_type": "markdown",
   "id": "3d2dec37",
   "metadata": {},
   "source": [
    "Mientras"
   ]
  },
  {
   "cell_type": "code",
   "execution_count": null,
   "id": "22249c1e",
   "metadata": {},
   "outputs": [],
   "source": []
  },
  {
   "cell_type": "markdown",
   "id": "2d23de87",
   "metadata": {},
   "source": [
    "Mientras\n",
    "\n",
    "While (condicion):\n",
    "\n",
    "Lo que haga el programa\n",
    "\n",
    "condición auxiliar (condicion)\n"
   ]
  },
  {
   "cell_type": "code",
   "execution_count": 310,
   "id": "05d420bb",
   "metadata": {},
   "outputs": [
    {
     "name": "stdout",
     "output_type": "stream",
     "text": [
      "0\n",
      "1\n",
      "2\n",
      "3\n",
      "4\n"
     ]
    }
   ],
   "source": [
    "contador = 0\n",
    "\n",
    "while contador < 5:\n",
    "    print(contador)\n",
    "    contador = contador + 1\n"
   ]
  },
  {
   "cell_type": "code",
   "execution_count": 311,
   "id": "f572b7c8",
   "metadata": {},
   "outputs": [
    {
     "name": "stdout",
     "output_type": "stream",
     "text": [
      "0\n",
      "1\n",
      "2\n",
      "3\n",
      "4\n"
     ]
    }
   ],
   "source": [
    "contador = 0\n",
    "\n",
    "while contador < 5:\n",
    "    print(contador)\n",
    "    contador += 1\n"
   ]
  },
  {
   "cell_type": "code",
   "execution_count": 312,
   "id": "a4cf18bf",
   "metadata": {},
   "outputs": [
    {
     "data": {
      "text/plain": [
       "10"
      ]
     },
     "execution_count": 312,
     "metadata": {},
     "output_type": "execute_result"
    }
   ],
   "source": [
    "### Longitud o tamaño de una lista\n",
    "\n",
    "### len permite \n",
    "\n",
    "len(X)"
   ]
  },
  {
   "cell_type": "markdown",
   "id": "4417f334",
   "metadata": {},
   "source": [
    "la instrucción \"type\" permite identificar el tipo de objeto que estamos trabajando"
   ]
  },
  {
   "cell_type": "code",
   "execution_count": 313,
   "id": "b611655c",
   "metadata": {},
   "outputs": [
    {
     "data": {
      "text/plain": [
       "list"
      ]
     },
     "execution_count": 313,
     "metadata": {},
     "output_type": "execute_result"
    }
   ],
   "source": [
    "type(X)"
   ]
  },
  {
   "cell_type": "code",
   "execution_count": 314,
   "id": "c584c06d",
   "metadata": {},
   "outputs": [],
   "source": [
    "X1 = (1,2,3,4,5,6,7,8,9,10)\n"
   ]
  },
  {
   "cell_type": "code",
   "execution_count": 315,
   "id": "e6a86ff8",
   "metadata": {},
   "outputs": [
    {
     "data": {
      "text/plain": [
       "tuple"
      ]
     },
     "execution_count": 315,
     "metadata": {},
     "output_type": "execute_result"
    }
   ],
   "source": [
    "type(X1)"
   ]
  },
  {
   "cell_type": "code",
   "execution_count": 316,
   "id": "dfb0f0f0",
   "metadata": {},
   "outputs": [
    {
     "data": {
      "text/plain": [
       "10"
      ]
     },
     "execution_count": 316,
     "metadata": {},
     "output_type": "execute_result"
    }
   ],
   "source": [
    "len(X1)\n"
   ]
  },
  {
   "cell_type": "code",
   "execution_count": 317,
   "id": "62ddad0a",
   "metadata": {},
   "outputs": [
    {
     "data": {
      "text/plain": [
       "set"
      ]
     },
     "execution_count": 317,
     "metadata": {},
     "output_type": "execute_result"
    }
   ],
   "source": [
    "X2 = {\"1\", \"2\", \"3\", \"4\", \"5\",\"6\", \"7\",\"8\", \"9\", \"10\"}\n",
    "\n",
    "type(X2)"
   ]
  },
  {
   "cell_type": "code",
   "execution_count": 318,
   "id": "7279be42",
   "metadata": {},
   "outputs": [
    {
     "data": {
      "text/plain": [
       "10"
      ]
     },
     "execution_count": 318,
     "metadata": {},
     "output_type": "execute_result"
    }
   ],
   "source": [
    "len(X2)"
   ]
  },
  {
   "cell_type": "code",
   "execution_count": 319,
   "id": "69c3a8db",
   "metadata": {},
   "outputs": [
    {
     "data": {
      "text/plain": [
       "[1, 2, 3, 4, 5, 6, 7, 8, 9, 10]"
      ]
     },
     "execution_count": 319,
     "metadata": {},
     "output_type": "execute_result"
    }
   ],
   "source": [
    "X"
   ]
  },
  {
   "cell_type": "code",
   "execution_count": 320,
   "id": "c608b575",
   "metadata": {},
   "outputs": [
    {
     "data": {
      "text/plain": [
       "7"
      ]
     },
     "execution_count": 320,
     "metadata": {},
     "output_type": "execute_result"
    }
   ],
   "source": [
    "X[6]"
   ]
  },
  {
   "cell_type": "code",
   "execution_count": 321,
   "id": "8d04e9ef",
   "metadata": {},
   "outputs": [
    {
     "data": {
      "text/plain": [
       "5"
      ]
     },
     "execution_count": 321,
     "metadata": {},
     "output_type": "execute_result"
    }
   ],
   "source": [
    "X[4]"
   ]
  },
  {
   "cell_type": "markdown",
   "id": "ab876db1",
   "metadata": {},
   "source": [
    "Cada vez que se coloca X[j] estamos indicando al programa que me muestra el elemento de X está en la posición j"
   ]
  },
  {
   "cell_type": "code",
   "execution_count": 322,
   "id": "2755507d",
   "metadata": {},
   "outputs": [
    {
     "data": {
      "text/plain": [
       "3"
      ]
     },
     "execution_count": 322,
     "metadata": {},
     "output_type": "execute_result"
    }
   ],
   "source": [
    "X1[2]"
   ]
  },
  {
   "cell_type": "code",
   "execution_count": 323,
   "id": "5882020e",
   "metadata": {},
   "outputs": [
    {
     "data": {
      "text/plain": [
       "(1, 2, 3, 4, 5, 6, 7, 8, 9, 10)"
      ]
     },
     "execution_count": 323,
     "metadata": {},
     "output_type": "execute_result"
    }
   ],
   "source": [
    "X1"
   ]
  },
  {
   "cell_type": "code",
   "execution_count": 324,
   "id": "237422d7",
   "metadata": {},
   "outputs": [
    {
     "data": {
      "text/plain": [
       "3"
      ]
     },
     "execution_count": 324,
     "metadata": {},
     "output_type": "execute_result"
    }
   ],
   "source": [
    "X1[2]"
   ]
  },
  {
   "cell_type": "code",
   "execution_count": 325,
   "id": "5429680b",
   "metadata": {},
   "outputs": [
    {
     "data": {
      "text/plain": [
       "{'1', '10', '2', '3', '4', '5', '6', '7', '8', '9'}"
      ]
     },
     "execution_count": 325,
     "metadata": {},
     "output_type": "execute_result"
    }
   ],
   "source": [
    "X2"
   ]
  },
  {
   "cell_type": "code",
   "execution_count": 326,
   "id": "e55249cd",
   "metadata": {},
   "outputs": [
    {
     "name": "stdout",
     "output_type": "stream",
     "text": [
      "El número 1 no es divisible por 3 y su resto es 1\n",
      "El número 2 no es divisible por 3 y su resto es 2\n",
      "El número 3 es divisible por 3 y su resto es 0\n",
      "El número 4 no es divisible por 3 y su resto es 1\n",
      "El número 5 no es divisible por 3 y su resto es 2\n",
      "El número 6 es divisible por 3 y su resto es 0\n",
      "El número 7 no es divisible por 3 y su resto es 1\n",
      "El número 8 no es divisible por 3 y su resto es 2\n",
      "El número 9 es divisible por 3 y su resto es 0\n",
      "El número 10 no es divisible por 3 y su resto es 1\n"
     ]
    }
   ],
   "source": [
    "# X = [1,2,3,4,5,6,7,8,9,10]\n",
    "i = 0\n",
    "\n",
    "while i < len(X):\n",
    "    j = X[i]\n",
    "    if j % 3 == 0:\n",
    "        print(f\"El número {j} es divisible por 3 y su resto es 0\")\n",
    "    elif j % 3 == 1:\n",
    "        print(f\"El número {j} no es divisible por 3 y su resto es 1\") \n",
    "    else:\n",
    "        print(f\"El número {j} no es divisible por 3 y su resto es 2\")       \n",
    "    i +=1 # i = i+1    "
   ]
  },
  {
   "cell_type": "code",
   "execution_count": 327,
   "id": "44622588",
   "metadata": {},
   "outputs": [
    {
     "name": "stdout",
     "output_type": "stream",
     "text": [
      "5\n",
      "10\n",
      "15\n",
      "20\n",
      "25\n",
      "30\n",
      "35\n",
      "40\n",
      "45\n"
     ]
    }
   ],
   "source": [
    "continuar = True\n",
    "suma = 0\n",
    "while continuar == True:\n",
    "    suma = suma + 5\n",
    "    print (suma)\n",
    "    if suma == 45:\n",
    "       continuar = False\n",
    "      "
   ]
  },
  {
   "cell_type": "code",
   "execution_count": 328,
   "id": "7997695b",
   "metadata": {},
   "outputs": [
    {
     "ename": "TypeError",
     "evalue": "'set' object is not subscriptable",
     "output_type": "error",
     "traceback": [
      "\u001b[31m---------------------------------------------------------------------------\u001b[39m",
      "\u001b[31mTypeError\u001b[39m                                 Traceback (most recent call last)",
      "\u001b[36mCell\u001b[39m\u001b[36m \u001b[39m\u001b[32mIn[328]\u001b[39m\u001b[32m, line 1\u001b[39m\n\u001b[32m----> \u001b[39m\u001b[32m1\u001b[39m \u001b[43mX2\u001b[49m\u001b[43m[\u001b[49m\u001b[32;43m2\u001b[39;49m\u001b[43m]\u001b[49m\n",
      "\u001b[31mTypeError\u001b[39m: 'set' object is not subscriptable"
     ]
    }
   ],
   "source": [
    "X2[2]"
   ]
  },
  {
   "cell_type": "markdown",
   "id": "aafa616a",
   "metadata": {},
   "source": [
    "Tarea: Inverstigar cómo llamar a un elemento de un conjunto en Python\n",
    "\n",
    "Respuesta :\n",
    "\n",
    "Cómo acceder a los elementos de un conjunto en Python\n",
    "Dado que los conjuntos son colecciones desordenadas, en ellos no se guarda la posición en la que son insertados los elementos como ocurre en los tipos list o tuple. Es por ello que no se puede acceder a los elementos a través de un índice."
   ]
  },
  {
   "cell_type": "markdown",
   "id": "cd0fd3d4",
   "metadata": {},
   "source": [
    "NumPy\n",
    "\n",
    "\n",
    "NumPy es un juego de palabras que significa Python numérico (Numerical Python). Es una librería de código abierto que se utiliza para llevar a cabo tareas matemáticas con altísima eficiencia. Además, introduce estructuras de datos como los arrays multidimensionales, que se pueden operar entre ellos a alto nivel, sin meterse mucho en el detalle.\n"
   ]
  },
  {
   "cell_type": "code",
   "execution_count": null,
   "id": "e43a0267",
   "metadata": {},
   "outputs": [],
   "source": [
    "import numpy as np\n"
   ]
  },
  {
   "cell_type": "code",
   "execution_count": null,
   "id": "277a95df",
   "metadata": {},
   "outputs": [
    {
     "data": {
      "text/plain": [
       "array([10,  9,  8,  7,  6,  5,  4,  3,  2,  1])"
      ]
     },
     "execution_count": 281,
     "metadata": {},
     "output_type": "execute_result"
    }
   ],
   "source": [
    "# Generar un arreglo unidimensional\n",
    "\n",
    "x1 = np.array([10,9,8,7,6,5,4,3,2,1])\n",
    "x1\n"
   ]
  },
  {
   "cell_type": "code",
   "execution_count": null,
   "id": "39cbc1ed",
   "metadata": {},
   "outputs": [
    {
     "data": {
      "text/plain": [
       "np.int64(8)"
      ]
     },
     "execution_count": 282,
     "metadata": {},
     "output_type": "execute_result"
    }
   ],
   "source": [
    "# Observar una posición en particular\n",
    "\n",
    "x1[2]\n"
   ]
  },
  {
   "cell_type": "code",
   "execution_count": null,
   "id": "617d7d08",
   "metadata": {},
   "outputs": [
    {
     "name": "stdout",
     "output_type": "stream",
     "text": [
      "8\n"
     ]
    }
   ],
   "source": [
    "print(x1[2])"
   ]
  },
  {
   "cell_type": "code",
   "execution_count": null,
   "id": "55cba863",
   "metadata": {},
   "outputs": [
    {
     "name": "stdout",
     "output_type": "stream",
     "text": [
      "El valor ubicado en la posición 2 es : 8\n"
     ]
    }
   ],
   "source": [
    "print(f\"El valor ubicado en la posición 2 es : {x1[2]}\")"
   ]
  },
  {
   "cell_type": "code",
   "execution_count": null,
   "id": "56c1aa5f",
   "metadata": {},
   "outputs": [
    {
     "name": "stdout",
     "output_type": "stream",
     "text": [
      "[0 9 8 7 6 5 4 3 2 1]\n"
     ]
    }
   ],
   "source": [
    "# Ajustar un valo r en particular\n",
    "x1[0] = 0\n",
    "\n",
    "print(x1)\n"
   ]
  },
  {
   "cell_type": "code",
   "execution_count": null,
   "id": "f748c1cb",
   "metadata": {},
   "outputs": [
    {
     "data": {
      "text/plain": [
       "array([0, 9, 8, 7, 6, 5, 4, 3, 2, 1])"
      ]
     },
     "execution_count": 286,
     "metadata": {},
     "output_type": "execute_result"
    }
   ],
   "source": [
    "x1"
   ]
  },
  {
   "cell_type": "code",
   "execution_count": null,
   "id": "d77d95ce",
   "metadata": {},
   "outputs": [
    {
     "data": {
      "text/plain": [
       "array([10, 19, 18, 17, 16, 15, 14, 13, 12, 11])"
      ]
     },
     "execution_count": 287,
     "metadata": {},
     "output_type": "execute_result"
    }
   ],
   "source": [
    "# x1 + k; k= 10\n",
    "\n",
    "x1 = x1 + 10\n",
    "x1"
   ]
  },
  {
   "cell_type": "code",
   "execution_count": null,
   "id": "0ec491c8",
   "metadata": {},
   "outputs": [
    {
     "data": {
      "text/plain": [
       "array([20, 29, 28, 27, 26, 25, 24, 23, 22, 21])"
      ]
     },
     "execution_count": 288,
     "metadata": {},
     "output_type": "execute_result"
    }
   ],
   "source": [
    "x1 += 10 # x1 = x1 + 10\n",
    "x1"
   ]
  },
  {
   "cell_type": "code",
   "execution_count": null,
   "id": "8b1c59e7",
   "metadata": {},
   "outputs": [
    {
     "name": "stdout",
     "output_type": "stream",
     "text": [
      "La suma de todos los elementos de x1 es igual a : 245\n"
     ]
    }
   ],
   "source": [
    "# Consolidar los valores de x1 (np.sum())\n",
    "\n",
    "suma_x1 = np.sum(x1)\n",
    "print(f\"La suma de todos los elementos de x1 es igual a : {suma_x1}\")"
   ]
  },
  {
   "cell_type": "code",
   "execution_count": null,
   "id": "7e95ff9a",
   "metadata": {},
   "outputs": [
    {
     "name": "stdout",
     "output_type": "stream",
     "text": [
      " El promedio de los elementos de x1 es: 24.5\n"
     ]
    }
   ],
   "source": [
    "# Calculamos el promedio de los elementos de x1\n",
    "\n",
    "n = len(x1)\n",
    "promedio = suma_x1/n\n",
    "promedio\n",
    "print(f\" El promedio de los elementos de x1 es: {promedio}\")"
   ]
  },
  {
   "cell_type": "code",
   "execution_count": null,
   "id": "e7882832",
   "metadata": {},
   "outputs": [
    {
     "name": "stdout",
     "output_type": "stream",
     "text": [
      "El promedio de los elementos de x1 es igual a: 24.5\n"
     ]
    }
   ],
   "source": [
    "# si usamos la definicon de NumPY (np.mean())\n",
    "\n",
    "print(f\"El promedio de los elementos de x1 es igual a: {np.mean(x1)}\")\n"
   ]
  },
  {
   "cell_type": "code",
   "execution_count": 332,
   "id": "425d153e",
   "metadata": {},
   "outputs": [
    {
     "data": {
      "text/plain": [
       "np.float64(2.8722813232690143)"
      ]
     },
     "execution_count": 332,
     "metadata": {},
     "output_type": "execute_result"
    }
   ],
   "source": [
    "# Desviación Estándar\n",
    "np.std(x1)\n"
   ]
  },
  {
   "cell_type": "code",
   "execution_count": null,
   "id": "f61c4e96",
   "metadata": {},
   "outputs": [
    {
     "data": {
      "text/plain": [
       "array([10, 19, 18, 17, 16, 15, 14, 13, 12, 11])"
      ]
     },
     "execution_count": 295,
     "metadata": {},
     "output_type": "execute_result"
    }
   ],
   "source": [
    "# Operaciones Aritméticas ( (np.add(nomnre del arreglo, numero con el cual operaremos)))\n",
    "# suma en numpy\n",
    "x2 = np.add(x1,-10)\n",
    "x2\n",
    "\n"
   ]
  },
  {
   "cell_type": "code",
   "execution_count": null,
   "id": "3d7dc626",
   "metadata": {},
   "outputs": [
    {
     "data": {
      "text/plain": [
       "array([20, 29, 28, 27, 26, 25, 24, 23, 22, 21])"
      ]
     },
     "execution_count": 296,
     "metadata": {},
     "output_type": "execute_result"
    }
   ],
   "source": [
    "# Multiplicación\n",
    "\n",
    "x1"
   ]
  },
  {
   "cell_type": "code",
   "execution_count": 329,
   "id": "a6222eac",
   "metadata": {},
   "outputs": [
    {
     "data": {
      "text/plain": [
       "array([40, 58, 56, 54, 52, 50, 48, 46, 44, 42])"
      ]
     },
     "execution_count": 329,
     "metadata": {},
     "output_type": "execute_result"
    }
   ],
   "source": [
    "x1*2"
   ]
  },
  {
   "cell_type": "code",
   "execution_count": 330,
   "id": "1448380c",
   "metadata": {},
   "outputs": [
    {
     "data": {
      "text/plain": [
       "array([40, 58, 56, 54, 52, 50, 48, 46, 44, 42])"
      ]
     },
     "execution_count": 330,
     "metadata": {},
     "output_type": "execute_result"
    }
   ],
   "source": [
    "# np.multiply(nombre del arreglo con el cual operaremos)\n",
    "\n",
    "np.multiply(x1,2)"
   ]
  },
  {
   "cell_type": "code",
   "execution_count": null,
   "id": "e4bf94c7",
   "metadata": {},
   "outputs": [
    {
     "data": {
      "text/plain": [
       "np.float64(24.5)"
      ]
     },
     "execution_count": 331,
     "metadata": {},
     "output_type": "execute_result"
    }
   ],
   "source": [
    "# Mediana\n",
    "np.median(x1)\n",
    "\n"
   ]
  },
  {
   "cell_type": "code",
   "execution_count": 333,
   "id": "babd2e21",
   "metadata": {},
   "outputs": [
    {
     "data": {
      "text/plain": [
       "np.float64(8.25)"
      ]
     },
     "execution_count": 333,
     "metadata": {},
     "output_type": "execute_result"
    }
   ],
   "source": [
    "# Varianza np.var()\n",
    "\n",
    "np.var(x1)"
   ]
  },
  {
   "cell_type": "code",
   "execution_count": null,
   "id": "c29386be",
   "metadata": {},
   "outputs": [
    {
     "name": "stdout",
     "output_type": "stream",
     "text": [
      "El valor mínimo de x1 se ubica en la posición 0\n",
      "El valor más pequeño de x1  es  20\n",
      "El valor máximo de x1 se ubica en la posición  1\n",
      "El valor más grande de x1 es 29\n"
     ]
    }
   ],
   "source": [
    "# Mínimo y Máximo\n",
    "# el comando np.argmin() permite conocer el índice donde se ubica el valor mínimo\n",
    "\n",
    "minimo = np.argmin(x1)\n",
    "print(f\"El valor mínimo de x1 se ubica en la posición {minimo}\")\n",
    "\n",
    "# el valor mínimo del arreglo se busca con np.min()\n",
    "\n",
    "min_x1 = np.min(x1)\n",
    "print(f\"El valor más pequeño de x1  es  {min_x1}\")\n",
    "\n",
    "# Máximo np.argmax()\n",
    "# el comando np.argmax() permite conocer el índice donde se ubica el valor máximo\n",
    "\n",
    "maximo = np.argmax(x1)\n",
    "print(f\"El valor máximo de x1 se ubica en la posición  {maximo}\")\n",
    "\n",
    "# el valor máximo del arreglo se busca con np.max()\n",
    "\n",
    "max_x1 = np.max(x1)\n",
    "print(f\"El valor más grande de x1 es {max_x1}\")"
   ]
  },
  {
   "cell_type": "markdown",
   "id": "63e6c9a5",
   "metadata": {},
   "source": [
    "TAREA 1 Numpy 10-07-25"
   ]
  },
  {
   "cell_type": "markdown",
   "id": "b268498b",
   "metadata": {},
   "source": [
    "Ejercicio 01: Crea un vector nulo (null vector) que tenga 10 elementos (★☆☆)\n",
    "\n",
    "Un vector nulo es un array de una dimensión compuesto por ceros (0).\n",
    "NOTA: Revisa la función np.zeros (https://numpy.org/doc/stable/reference/generated/numpy.zeros.html)\n",
    "\n"
   ]
  },
  {
   "cell_type": "code",
   "execution_count": null,
   "id": "ba1203c1",
   "metadata": {},
   "outputs": [
    {
     "data": {
      "text/plain": [
       "array([0., 0., 0., 0., 0., 0., 0., 0., 0., 0.])"
      ]
     },
     "metadata": {},
     "output_type": "display_data"
    }
   ],
   "source": [
    "import numpy as np\n",
    "np.zeros(10)"
   ]
  },
  {
   "cell_type": "markdown",
   "id": "9f29ca97",
   "metadata": {},
   "source": [
    "Ejercicio 02: Crea un vector de unos que tenga 10 elementos (★☆☆)\n",
    "\n",
    "NOTA: Revisa la función np.ones (https://numpy.org/doc/stable/reference/generated/numpy.ones.html)"
   ]
  },
  {
   "cell_type": "code",
   "execution_count": null,
   "id": "29c377e8",
   "metadata": {},
   "outputs": [
    {
     "data": {
      "text/plain": [
       "array([1., 1., 1., 1., 1., 1., 1., 1., 1., 1.])"
      ]
     },
     "metadata": {},
     "output_type": "display_data"
    }
   ],
   "source": [
    "np.ones(10)"
   ]
  },
  {
   "cell_type": "markdown",
   "id": "2f38f247",
   "metadata": {},
   "source": [
    "Ejercicio 03: Investiga la función linspace de NumPy y crea un array que contenga 10 elementos (★☆☆)\n",
    "\n",
    "NOTA: Revisa la función np.linspace (https://numpy.org/doc/stable/reference/generated/numpy.linspace.html)"
   ]
  },
  {
   "cell_type": "code",
   "execution_count": null,
   "id": "96b4ca41",
   "metadata": {},
   "outputs": [
    {
     "data": {
      "text/plain": [
       "array([ 1.,  2.,  3.,  4.,  5.,  6.,  7.,  8.,  9., 10.])"
      ]
     },
     "metadata": {},
     "output_type": "display_data"
    }
   ],
   "source": [
    "np.linspace(1.0,10.0, num=10)"
   ]
  },
  {
   "cell_type": "markdown",
   "id": "d1b4ae8e",
   "metadata": {},
   "source": [
    "Ejercicio 04: Busca varias formas de generar un array con números aleatorios y crea un array 1D y dos arrays 2D\n",
    "NOTA: Revisa las funciones np.random.rand (https://numpy.org/doc/stable/reference/random/generated/numpy.random.rand.html),\n",
    "\n",
    " np.random.randint (https://numpy.org/doc/stable/reference/random/generated/numpy.random.randint.html) y \n",
    " \n",
    " np.random.randn (https://numpy.org/doc/stable/reference/random/generated/numpy.random.randn.html)"
   ]
  },
  {
   "cell_type": "code",
   "execution_count": null,
   "id": "d29e3281",
   "metadata": {},
   "outputs": [
    {
     "data": {
      "text/plain": [
       "array([0, 1, 4, 4, 1, 3, 1, 1, 0, 1])"
      ]
     },
     "metadata": {},
     "output_type": "display_data"
    }
   ],
   "source": [
    "np.random.randint(5, size = 10)"
   ]
  },
  {
   "cell_type": "code",
   "execution_count": null,
   "id": "9c95b9a1",
   "metadata": {},
   "outputs": [
    {
     "data": {
      "text/plain": [
       "array([[0.92949291, 0.2779126 , 0.41318885, 0.1736304 ],\n",
       "       [0.57636269, 0.27079554, 0.65648995, 0.4525838 ],\n",
       "       [0.86330106, 0.35032868, 0.04773532, 0.42959043],\n",
       "       [0.43785098, 0.14529586, 0.84194626, 0.80184523],\n",
       "       [0.34821374, 0.74472975, 0.67870665, 0.38825814]])"
      ]
     },
     "metadata": {},
     "output_type": "display_data"
    }
   ],
   "source": [
    "import numpy as np\n",
    "np.random.rand(5,4)"
   ]
  },
  {
   "cell_type": "code",
   "execution_count": null,
   "id": "eae7528a",
   "metadata": {},
   "outputs": [
    {
     "data": {
      "text/plain": [
       "array([[-1.36076651, -2.64190832,  2.30554631,  0.56879588],\n",
       "       [ 3.85841262,  2.06883007,  1.2638943 ,  6.49314676]])"
      ]
     },
     "metadata": {},
     "output_type": "display_data"
    }
   ],
   "source": [
    "3 + 2.5 * np.random.randn(2, 4)"
   ]
  },
  {
   "cell_type": "markdown",
   "id": "40f20a0a",
   "metadata": {},
   "source": [
    "Ejercicio 05: Crea una matriz (array 2D) identidad de 5x5 (★☆☆)\n",
    "\n",
    "NOTA: Revisa la función np.eye(https://numpy.org/devdocs/reference/generated/numpy.eye.html)"
   ]
  },
  {
   "cell_type": "code",
   "execution_count": null,
   "id": "7ade8529",
   "metadata": {},
   "outputs": [
    {
     "data": {
      "text/plain": [
       "array([[1, 0, 0, 0, 0],\n",
       "       [0, 1, 0, 0, 0],\n",
       "       [0, 0, 1, 0, 0],\n",
       "       [0, 0, 0, 1, 0],\n",
       "       [0, 0, 0, 0, 1]])"
      ]
     },
     "metadata": {},
     "output_type": "display_data"
    }
   ],
   "source": [
    "np.eye(5,5, dtype=int)"
   ]
  },
  {
   "cell_type": "markdown",
   "id": "f6ac8b0d",
   "metadata": {},
   "source": [
    "Ejercicio 06: Crea una matriz con números aleatorios de 3x2 y calcula el valor mínimo y máximo (★☆☆)\n",
    "\n",
    "NOTA: Revisa la función np.min (https://numpy.org/devdocs/reference/generated/numpy.min.html) y np.max (https://numpy.org/devdocs/reference/generated/numpy.max.html)"
   ]
  },
  {
   "cell_type": "code",
   "execution_count": null,
   "id": "0b609be4",
   "metadata": {},
   "outputs": [
    {
     "name": "stdout",
     "output_type": "stream",
     "text": [
      "[[0.72528118 0.76599685]\n",
      " [0.55619088 0.54712809]\n",
      " [0.04480631 0.79070825]]\n",
      "El valor Mínimo de la Matriz 3X2 es: 0.044806310518154646\n",
      "El valor Máximo de la Matriz 3x2 es: 0.7907082453951735\n"
     ]
    }
   ],
   "source": [
    "# Valor Mínimo\n",
    "matriz_3x2 = np.random.rand(3,2)\n",
    "print(matriz_3x2)\n",
    "print(f\"El valor Mínimo de la Matriz 3X2 es: {np.min(matriz_3x2)}\")\n",
    "\n",
    "# Valor Máximo\n",
    "print(f\"El valor Máximo de la Matriz 3x2 es: {np.max(matriz_3x2)}\")"
   ]
  },
  {
   "cell_type": "markdown",
   "id": "3fa6fe56",
   "metadata": {},
   "source": [
    "Ejercicio 07: Crea un vector con números aleatorios de 30 elementos y calcula la media (★☆☆)\n",
    "\n",
    "NOTA: Revisa la función np.mean (https://numpy.org/doc/stable/reference/generated/numpy.mean.html)"
   ]
  },
  {
   "cell_type": "code",
   "execution_count": null,
   "id": "724bb2f8",
   "metadata": {},
   "outputs": [
    {
     "name": "stdout",
     "output_type": "stream",
     "text": [
      "El Vector de números aleatorios es:\n",
      "\n",
      "[[0.0362266  0.08906204 0.83280689 0.31070193 0.99837397 0.26243558\n",
      "  0.28079779 0.97617654 0.89628545 0.88653693 0.8507767  0.94218592\n",
      "  0.54918403 0.92576928 0.69534309 0.41859245 0.18138735 0.51179257\n",
      "  0.50925076 0.27069724 0.23189976 0.17688334 0.01499876 0.12835268\n",
      "  0.36502465 0.90803983 0.77493814 0.24474177 0.63804147 0.69477321]]\n",
      "\n",
      "La Media del vector aletaorio es: 0.5200692232389782 \n"
     ]
    }
   ],
   "source": [
    "a = np.random.rand(1, 30)\n",
    "print(\"El Vector de números aleatorios es:\")\n",
    "print(\"\")\n",
    "print(a)\n",
    "print(\"\")\n",
    "print(f\"La Media del vector aletaorio es: {np.mean(a)} \")"
   ]
  },
  {
   "cell_type": "markdown",
   "id": "46f3083d",
   "metadata": {},
   "source": [
    "Ejercicio 08: Convierte la lista [1, 2, 3] y la tupla (1, 2, 3) en arrays (★☆☆)"
   ]
  },
  {
   "cell_type": "code",
   "execution_count": null,
   "id": "2b3e3913",
   "metadata": {},
   "outputs": [
    {
     "name": "stdout",
     "output_type": "stream",
     "text": [
      "La lista convertida en arreglo es:[1 2 3]\n",
      "\n",
      "La tupla convertida en arreglo es:[1 2 3]\n",
      "\n"
     ]
    }
   ],
   "source": [
    "l = [1, 2, 3]\n",
    "t = (1, 2, 3)\n",
    "\n",
    "al = np.array (l)\n",
    "print(f\"La lista convertida en arreglo es:{al}\")\n",
    "print(\"\")\n",
    "at = np.array(t)\n",
    "print(f\"La tupla convertida en arreglo es:{at}\")\n",
    "print(\"\")"
   ]
  },
  {
   "cell_type": "markdown",
   "id": "f3352d61",
   "metadata": {},
   "source": [
    "Ejercicio 09: Invierte el vector del ejercicio anterior (★☆☆)\n",
    "\n",
    "NOTA: Revisa la función np.flip (https://numpy.org/doc/stable/reference/generated/numpy.flip.html)"
   ]
  },
  {
   "cell_type": "code",
   "execution_count": null,
   "id": "88c1ab7a",
   "metadata": {},
   "outputs": [
    {
     "name": "stdout",
     "output_type": "stream",
     "text": [
      "El Vector de números aleatorios es:\n",
      "\n",
      "[[0.18606418 0.85213443 0.33910497 0.21050538 0.66269891 0.19722531\n",
      "  0.60833397 0.84892528 0.34497819 0.2373674  0.7981284  0.97221415\n",
      "  0.31699323 0.22578647 0.07651076 0.82931059 0.68757484 0.09709464\n",
      "  0.28701939 0.47001901 0.45187479 0.90462669 0.66130427 0.95755444\n",
      "  0.11665584 0.00813911 0.34665897 0.80630385 0.53384078 0.99927775]]\n",
      "\n",
      "El Vector invertido es:\n",
      "\n",
      "[[0.99927775 0.53384078 0.80630385 0.34665897 0.00813911 0.11665584\n",
      "  0.95755444 0.66130427 0.90462669 0.45187479 0.47001901 0.28701939\n",
      "  0.09709464 0.68757484 0.82931059 0.07651076 0.22578647 0.31699323\n",
      "  0.97221415 0.7981284  0.2373674  0.34497819 0.84892528 0.60833397\n",
      "  0.19722531 0.66269891 0.21050538 0.33910497 0.85213443 0.18606418]]\n"
     ]
    }
   ],
   "source": [
    "import numpy as np\n",
    "a = np.random.rand(1, 30)\n",
    "b = np.flip(a,1)\n",
    "print(\"El Vector de números aleatorios es:\")\n",
    "print(\"\")\n",
    "print(a)\n",
    "print(\"\")\n",
    "print(\"El Vector invertido es:\")\n",
    "print(\"\")\n",
    "print(b)"
   ]
  },
  {
   "cell_type": "markdown",
   "id": "4a522ffa",
   "metadata": {},
   "source": [
    "Ejercicio 10: Cambia el tamaño de un array aleatorio de dimensiones 5x12 en 12x5 (★☆☆)\n",
    "\n",
    "NOTA: Revisa la función np.reshape (https://numpy.org/doc/stable/reference/generated/numpy.reshape.html)"
   ]
  },
  {
   "cell_type": "code",
   "execution_count": null,
   "id": "54d28831",
   "metadata": {},
   "outputs": [
    {
     "name": "stdout",
     "output_type": "stream",
     "text": [
      "El Arreglo aleatorio de dimensiones 5x12 es:\n",
      "\n",
      "[[8.51527234e-01 9.16874576e-01 6.93841219e-01 3.14789142e-01\n",
      "  4.09140036e-01 6.15040171e-01 9.21970795e-01 9.82447379e-01\n",
      "  8.42929306e-01 3.46158600e-01 2.12052436e-01 1.61201751e-01]\n",
      " [8.07825588e-01 5.64497924e-01 9.16478029e-01 9.62982716e-02\n",
      "  5.95921705e-01 1.42676913e-01 4.21585831e-01 5.64032504e-01\n",
      "  1.96427625e-01 4.20804913e-01 3.22941382e-01 5.05760591e-01]\n",
      " [2.87548911e-02 2.78495701e-01 2.11437336e-01 7.27616981e-01\n",
      "  1.67116907e-01 8.95072471e-01 4.19178098e-01 5.54308822e-01\n",
      "  4.29991652e-01 6.33112666e-01 9.91076884e-01 3.17708811e-01]\n",
      " [2.60123685e-01 1.38979920e-04 6.22769122e-01 6.40672569e-01\n",
      "  9.85526235e-01 1.74543826e-01 8.12938765e-01 1.99556350e-01\n",
      "  3.76831268e-01 4.60115455e-01 2.10688229e-01 1.91053880e-01]\n",
      " [4.28027434e-01 4.29552834e-01 4.87199941e-01 9.68762708e-02\n",
      "  9.68439266e-01 5.97522952e-01 3.19543124e-01 1.67948144e-01\n",
      "  8.48862029e-01 6.99920861e-01 6.62756181e-01 8.71256912e-01]]\n",
      "\n",
      "El Arreglo aleatorio cambiado a las dimensiones 12x5 es:\n",
      "\n",
      "[[8.51527234e-01 9.16874576e-01 6.93841219e-01 3.14789142e-01\n",
      "  4.09140036e-01]\n",
      " [6.15040171e-01 9.21970795e-01 9.82447379e-01 8.42929306e-01\n",
      "  3.46158600e-01]\n",
      " [2.12052436e-01 1.61201751e-01 8.07825588e-01 5.64497924e-01\n",
      "  9.16478029e-01]\n",
      " [9.62982716e-02 5.95921705e-01 1.42676913e-01 4.21585831e-01\n",
      "  5.64032504e-01]\n",
      " [1.96427625e-01 4.20804913e-01 3.22941382e-01 5.05760591e-01\n",
      "  2.87548911e-02]\n",
      " [2.78495701e-01 2.11437336e-01 7.27616981e-01 1.67116907e-01\n",
      "  8.95072471e-01]\n",
      " [4.19178098e-01 5.54308822e-01 4.29991652e-01 6.33112666e-01\n",
      "  9.91076884e-01]\n",
      " [3.17708811e-01 2.60123685e-01 1.38979920e-04 6.22769122e-01\n",
      "  6.40672569e-01]\n",
      " [9.85526235e-01 1.74543826e-01 8.12938765e-01 1.99556350e-01\n",
      "  3.76831268e-01]\n",
      " [4.60115455e-01 2.10688229e-01 1.91053880e-01 4.28027434e-01\n",
      "  4.29552834e-01]\n",
      " [4.87199941e-01 9.68762708e-02 9.68439266e-01 5.97522952e-01\n",
      "  3.19543124e-01]\n",
      " [1.67948144e-01 8.48862029e-01 6.99920861e-01 6.62756181e-01\n",
      "  8.71256912e-01]]\n"
     ]
    }
   ],
   "source": [
    "a = np.random.rand(5,12)\n",
    "b = np.reshape(a,(12,5))\n",
    "print(\"El Arreglo aleatorio de dimensiones 5x12 es:\")\n",
    "print(\"\")\n",
    "print(a)\n",
    "print(\"\")\n",
    "print(\"El Arreglo aleatorio cambiado a las dimensiones 12x5 es:\")\n",
    "print(\"\")\n",
    "print(b)"
   ]
  },
  {
   "cell_type": "markdown",
   "id": "7bc46d3e",
   "metadata": {},
   "source": [
    "Ejercicio 11: Convierte la lista [1, 2, 0, 0, 4, 0] en un array y obtén el índice de los elementos que no son cero (★★☆)\n",
    "\n",
    "NOTA: Revisa la función np.where (https://numpy.org/devdocs/reference/generated/numpy.where.html)"
   ]
  },
  {
   "cell_type": "code",
   "execution_count": null,
   "id": "4e230ce6",
   "metadata": {},
   "outputs": [
    {
     "name": "stdout",
     "output_type": "stream",
     "text": [
      "El Arreglo obtenido de la lista [1,2,0,0,4,0] es:\n",
      "\n",
      "El índice de los elementos diferentes de cero son: (array([0, 1, 4]),)\n"
     ]
    }
   ],
   "source": [
    "l = [1,2,0,0,4,0]\n",
    "a = np.array(l)\n",
    "print(\"El Arreglo obtenido de la lista [1,2,0,0,4,0] es:\")\n",
    "print(\"\")\n",
    "a\n",
    "print(f\"El índice de los elementos diferentes de cero son: {np.nonzero(a)}\")"
   ]
  },
  {
   "cell_type": "markdown",
   "id": "49a3bf65",
   "metadata": {},
   "source": [
    "Ejercicio 12: Convierte la lista [0, 5, -1, 3, 15] en un array, multiplica sus valores por -2 y obtén los elementos pares (★★☆)"
   ]
  },
  {
   "cell_type": "code",
   "execution_count": null,
   "id": "a48681d6",
   "metadata": {},
   "outputs": [
    {
     "name": "stdout",
     "output_type": "stream",
     "text": [
      "El Arreglo obtenido de la lista [0, 5, -1, 3, 15] es:\n",
      "\n",
      "Los elementos pares son: [  0 -10   2  -6 -30]\n"
     ]
    }
   ],
   "source": [
    "l = [0, 5, -1, 3, 15]\n",
    "a = np.array(l)\n",
    "a = a*(-2)\n",
    "print(\"El Arreglo obtenido de la lista [0, 5, -1, 3, 15] es:\")\n",
    "print(\"\")\n",
    "a\n",
    "print(f\"Los elementos pares son: {a}\")\n",
    "\n"
   ]
  },
  {
   "cell_type": "markdown",
   "id": "6a03727d",
   "metadata": {},
   "source": [
    "Ejercicio 13: Crea un vector aleatorio de 10 elementos y ordénalo de menor a mayor (★★☆)\n",
    "\n",
    "NOTA: Revisa la función np.sort (https://numpy.org/doc/stable/reference/generated/numpy.sort.html)"
   ]
  },
  {
   "cell_type": "code",
   "execution_count": null,
   "id": "7a147e5c",
   "metadata": {},
   "outputs": [
    {
     "name": "stdout",
     "output_type": "stream",
     "text": [
      "El Vector aleatorio de 10 elementos es: [[0.50275844 0.18573626 0.1610982  0.02232171 0.83909771 0.76687194\n",
      "  0.79404319 0.43653355 0.67433899 0.1653327 ]]\n",
      "\n",
      "El Vector ordenado de menor a mayor es: [[0.02232171 0.1610982  0.1653327  0.18573626 0.43653355 0.50275844\n",
      "  0.67433899 0.76687194 0.79404319 0.83909771]]\n",
      "\n"
     ]
    }
   ],
   "source": [
    "a = np.random.rand(1, 10)\n",
    "print(f\"El Vector aleatorio de 10 elementos es: {a}\")\n",
    "print(\"\")\n",
    "b = np.sort(a)\n",
    "print(f\"El Vector ordenado de menor a mayor es: {b}\")\n",
    "print(\"\")\n"
   ]
  },
  {
   "cell_type": "markdown",
   "id": "44573dd2",
   "metadata": {},
   "source": [
    "Ejercicio 14: Genera dos vectores aleatorios de 8 elementos y aplica las operaciones de suma, resta y multiplicación entre ellos (★★☆)\n",
    "\n",
    "NOTA: Revisa las funciones matemáticas: https://numpy.org/doc/stable/reference/routines.math.html"
   ]
  },
  {
   "cell_type": "code",
   "execution_count": null,
   "id": "eec0dee4",
   "metadata": {},
   "outputs": [
    {
     "name": "stdout",
     "output_type": "stream",
     "text": [
      "El resultado de la suma de los vectores es: 8.116760835217772\n",
      "\n",
      "El resultado de la resta de los vectores es: [[-0.03006239 -0.0299153  -0.28328743 -0.12022258  0.22393549  0.65374343\n",
      "  -0.26412558]]\n",
      "\n",
      "El resultado de la multiplicación de los vectores es: 2.5883578524978877e-06\n"
     ]
    }
   ],
   "source": [
    "a = np.random.rand(1, 8)\n",
    "b = np.random.rand(1, 8)\n",
    "\n",
    "s = np.sum(a)+np.sum(b)\n",
    "print(f\"El resultado de la suma de los vectores es: {s}\")\n",
    "print(\"\")\n",
    "\n",
    "d = np.diff(a)-np.diff(b)\n",
    "print(f\"El resultado de la resta de los vectores es: {d}\")\n",
    "print(\"\")\n",
    "\n",
    "p = np.prod(a)*np.prod(b)\n",
    "print(f\"El resultado de la multiplicación de los vectores es: {p}\")\n"
   ]
  },
  {
   "cell_type": "markdown",
   "id": "bbeac6a2",
   "metadata": {},
   "source": [
    "Ejercicio 15: Convierte la lista [1, 2, 3, 4, 5, 6, 7, 8, 9, 10, 11, 12] en un array y transfórmalo en una matriz con filas de 3 columnas (★★★)"
   ]
  },
  {
   "cell_type": "code",
   "execution_count": null,
   "id": "71cdc01d",
   "metadata": {},
   "outputs": [
    {
     "name": "stdout",
     "output_type": "stream",
     "text": [
      "El Arreglo obtenido de la lista [1, 2, 3, 4, 5, 6, 7, 8, 9, 10, 11, 12] es:\n",
      "\n",
      "[ 1  2  3  4  5  6  7  8  9 10 11 12]\n",
      "\n",
      "La matriz transformada en filas de 3 columnas es:\n"
     ]
    },
    {
     "data": {
      "text/plain": [
       "array([[ 1,  2,  3],\n",
       "       [ 4,  5,  6],\n",
       "       [ 7,  8,  9],\n",
       "       [10, 11, 12]])"
      ]
     },
     "metadata": {},
     "output_type": "display_data"
    }
   ],
   "source": [
    "l = [1, 2, 3, 4, 5, 6, 7, 8, 9, 10, 11, 12]\n",
    "a = np.array(l)\n",
    "print(\"El Arreglo obtenido de la lista [1, 2, 3, 4, 5, 6, 7, 8, 9, 10, 11, 12] es:\")\n",
    "print(\"\")\n",
    "print(a)\n",
    "print(\"\")\n",
    "b = np.reshape(a, (4,3))\n",
    "print(\"La matriz transformada en filas de 3 columnas es:\")\n",
    "\n",
    "b\n"
   ]
  }
 ],
 "metadata": {
  "kernelspec": {
   "display_name": "Python 3",
   "language": "python",
   "name": "python3"
  },
  "language_info": {
   "codemirror_mode": {
    "name": "ipython",
    "version": 3
   },
   "file_extension": ".py",
   "mimetype": "text/x-python",
   "name": "python",
   "nbconvert_exporter": "python",
   "pygments_lexer": "ipython3",
   "version": "3.12.1"
  }
 },
 "nbformat": 4,
 "nbformat_minor": 5
}
