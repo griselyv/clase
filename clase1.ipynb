{
 "cells": [
  {
   "cell_type": "code",
   "execution_count": 54,
   "id": "ebd1314d",
   "metadata": {},
   "outputs": [
    {
     "name": "stdout",
     "output_type": "stream",
     "text": [
      "Hello, World!\n"
     ]
    }
   ],
   "source": [
    "print(\"Hello, World!\")"
   ]
  },
  {
   "cell_type": "code",
   "execution_count": 55,
   "id": "7b8d6f15",
   "metadata": {},
   "outputs": [
    {
     "name": "stdout",
     "output_type": "stream",
     "text": [
      "Bienvenidos a las prácticas de Python\n"
     ]
    }
   ],
   "source": [
    "print(\"Bienvenidos a las prácticas de Python\")"
   ]
  },
  {
   "cell_type": "code",
   "execution_count": null,
   "id": "64de8460",
   "metadata": {},
   "outputs": [],
   "source": []
  },
  {
   "cell_type": "markdown",
   "id": "cbc6eafe",
   "metadata": {},
   "source": [
    "Este es un segmento de texto\n",
    "#Títulos\n",
    "#Subtítulos\n",
    "## Otros Subtítulos"
   ]
  },
  {
   "cell_type": "code",
   "execution_count": null,
   "id": "37c29cac",
   "metadata": {},
   "outputs": [],
   "source": []
  },
  {
   "cell_type": "code",
   "execution_count": 56,
   "id": "a7b8c947",
   "metadata": {},
   "outputs": [],
   "source": [
    "nombre = \"Juan\"\n",
    "edad = 25\n",
    "altura = 1.80\n",
    "es_estudiante = True\n"
   ]
  },
  {
   "cell_type": "code",
   "execution_count": 57,
   "id": "639a5e26",
   "metadata": {},
   "outputs": [
    {
     "name": "stdout",
     "output_type": "stream",
     "text": [
      "25\n"
     ]
    }
   ],
   "source": [
    "print(edad)"
   ]
  },
  {
   "cell_type": "code",
   "execution_count": 58,
   "id": "bee2799d",
   "metadata": {},
   "outputs": [
    {
     "name": "stdout",
     "output_type": "stream",
     "text": [
      "1.8\n"
     ]
    }
   ],
   "source": [
    "print(altura)"
   ]
  },
  {
   "cell_type": "code",
   "execution_count": 59,
   "id": "58b3be90",
   "metadata": {},
   "outputs": [
    {
     "name": "stdout",
     "output_type": "stream",
     "text": [
      "El ususario se llama Juan, tiene 25 años de edad, mide 1.8 metros\n"
     ]
    }
   ],
   "source": [
    "print(f\"El ususario se llama {nombre}, tiene {edad} años de edad, mide {altura} metros\")"
   ]
  },
  {
   "cell_type": "code",
   "execution_count": 60,
   "id": "3aab5ce0",
   "metadata": {},
   "outputs": [
    {
     "name": "stdout",
     "output_type": "stream",
     "text": [
      "Número original: 10\n",
      "Número nuevo: 60\n"
     ]
    }
   ],
   "source": [
    "mi_numero = 10\n",
    "print(f\"Número original: {mi_numero}\")\n",
    "\n",
    "mi_numero = 60\n",
    "print(f\"Número nuevo: {mi_numero}\")"
   ]
  },
  {
   "cell_type": "code",
   "execution_count": 61,
   "id": "90b88e45",
   "metadata": {},
   "outputs": [],
   "source": [
    "num_int1 = 123\n",
    "num_int2 = -57"
   ]
  },
  {
   "cell_type": "code",
   "execution_count": 62,
   "id": "1b097bda",
   "metadata": {},
   "outputs": [],
   "source": [
    "num_float1 = 3.14\n",
    "num_float2 = -0.16"
   ]
  },
  {
   "cell_type": "code",
   "execution_count": 63,
   "id": "88ecaf90",
   "metadata": {},
   "outputs": [],
   "source": [
    "bool_var1 = True\n",
    "bool_var2 = False"
   ]
  },
  {
   "cell_type": "code",
   "execution_count": 64,
   "id": "340bb4cc",
   "metadata": {},
   "outputs": [
    {
     "data": {
      "text/plain": [
       "True"
      ]
     },
     "execution_count": 64,
     "metadata": {},
     "output_type": "execute_result"
    }
   ],
   "source": [
    "bool_var1"
   ]
  },
  {
   "cell_type": "code",
   "execution_count": 65,
   "id": "ecd97485",
   "metadata": {},
   "outputs": [
    {
     "data": {
      "text/plain": [
       "False"
      ]
     },
     "execution_count": 65,
     "metadata": {},
     "output_type": "execute_result"
    }
   ],
   "source": [
    "bool_var1\n",
    "bool_var2"
   ]
  },
  {
   "cell_type": "code",
   "execution_count": 66,
   "id": "3a29221f",
   "metadata": {},
   "outputs": [
    {
     "data": {
      "text/plain": [
       "True"
      ]
     },
     "execution_count": 66,
     "metadata": {},
     "output_type": "execute_result"
    }
   ],
   "source": [
    "bool_var2\n",
    "bool_var1"
   ]
  },
  {
   "cell_type": "code",
   "execution_count": 67,
   "id": "39ceaf7c",
   "metadata": {},
   "outputs": [
    {
     "name": "stdout",
     "output_type": "stream",
     "text": [
      "True\n",
      "False\n"
     ]
    }
   ],
   "source": [
    "print(bool_var1)\n",
    "print(bool_var2)"
   ]
  },
  {
   "cell_type": "code",
   "execution_count": 68,
   "id": "71a5d9a7",
   "metadata": {},
   "outputs": [],
   "source": [
    "list_numbers = [1, 2, 3, 4, 5]\n",
    "list_strings = [\"A\", \"B\", \"C\", \"D\"]"
   ]
  },
  {
   "cell_type": "code",
   "execution_count": 69,
   "id": "397a4dce",
   "metadata": {},
   "outputs": [
    {
     "data": {
      "text/plain": [
       "'A'"
      ]
     },
     "execution_count": 69,
     "metadata": {},
     "output_type": "execute_result"
    }
   ],
   "source": [
    "list_strings[0]"
   ]
  },
  {
   "cell_type": "code",
   "execution_count": 70,
   "id": "d5840ec2",
   "metadata": {},
   "outputs": [
    {
     "data": {
      "text/plain": [
       "1"
      ]
     },
     "execution_count": 70,
     "metadata": {},
     "output_type": "execute_result"
    }
   ],
   "source": [
    "list_numbers[0]"
   ]
  },
  {
   "cell_type": "markdown",
   "id": "11b9ad11",
   "metadata": {},
   "source": [
    "Para una lista (suponer que se llama X)\n",
    " \n",
    "     X = [a1, a2, a3, a4, ..., an]\n",
    "posicion:  0   1  2    3 ..... n-1\n"
   ]
  },
  {
   "cell_type": "code",
   "execution_count": 71,
   "id": "6ce68672",
   "metadata": {},
   "outputs": [
    {
     "data": {
      "text/plain": [
       "'C'"
      ]
     },
     "execution_count": 71,
     "metadata": {},
     "output_type": "execute_result"
    }
   ],
   "source": [
    "list_strings[2]"
   ]
  },
  {
   "cell_type": "code",
   "execution_count": 72,
   "id": "147a8c60",
   "metadata": {},
   "outputs": [],
   "source": [
    "x = 5\n",
    "y = 3\n",
    "z = x + y  # Salida: z = 8\n",
    "z = x * y  # Salida: z = 15"
   ]
  },
  {
   "cell_type": "markdown",
   "id": "f54db35e",
   "metadata": {},
   "source": [
    "Operadores Lógicos"
   ]
  },
  {
   "cell_type": "code",
   "execution_count": 73,
   "id": "9a6ec582",
   "metadata": {},
   "outputs": [
    {
     "data": {
      "text/plain": [
       "False"
      ]
     },
     "execution_count": 73,
     "metadata": {},
     "output_type": "execute_result"
    }
   ],
   "source": [
    "True and False"
   ]
  },
  {
   "cell_type": "code",
   "execution_count": 74,
   "id": "7da42f28",
   "metadata": {},
   "outputs": [
    {
     "data": {
      "text/plain": [
       "True"
      ]
     },
     "execution_count": 74,
     "metadata": {},
     "output_type": "execute_result"
    }
   ],
   "source": [
    "True or False"
   ]
  },
  {
   "cell_type": "code",
   "execution_count": 75,
   "id": "ea440b4a",
   "metadata": {},
   "outputs": [
    {
     "data": {
      "text/plain": [
       "True"
      ]
     },
     "execution_count": 75,
     "metadata": {},
     "output_type": "execute_result"
    }
   ],
   "source": [
    "not False\n",
    "\n"
   ]
  },
  {
   "cell_type": "code",
   "execution_count": 76,
   "id": "bac5d674",
   "metadata": {},
   "outputs": [
    {
     "data": {
      "text/plain": [
       "False"
      ]
     },
     "execution_count": 76,
     "metadata": {},
     "output_type": "execute_result"
    }
   ],
   "source": [
    "not not False"
   ]
  },
  {
   "cell_type": "markdown",
   "id": "2ed8468f",
   "metadata": {},
   "source": [
    "## Estructura de Decisión\n",
    "\n",
    "Si\n",
    "If \"Regla\" : Secoloca la instrucción/operación que hará la máquina"
   ]
  },
  {
   "cell_type": "code",
   "execution_count": 77,
   "id": "e1a3e125",
   "metadata": {},
   "outputs": [
    {
     "name": "stdout",
     "output_type": "stream",
     "text": [
      "Eres mayor de edad\n"
     ]
    }
   ],
   "source": [
    "edad = 45\n",
    "if edad >= 18 :\n",
    "    print(\"Eres mayor de edad\")"
   ]
  },
  {
   "cell_type": "code",
   "execution_count": 78,
   "id": "1a2f14a7",
   "metadata": {},
   "outputs": [
    {
     "data": {
      "text/plain": [
       "True"
      ]
     },
     "execution_count": 78,
     "metadata": {},
     "output_type": "execute_result"
    }
   ],
   "source": [
    "edad >= 18"
   ]
  },
  {
   "cell_type": "markdown",
   "id": "e2dfa33a",
   "metadata": {},
   "source": [
    "Sino, complemento del condicional Si\n",
    "\n",
    "Si (condición):\n",
    "    Lo que haga el programa\n",
    "    \n",
    "en caso contrario (else)\n",
    "    lo que deba hacer"
   ]
  },
  {
   "cell_type": "code",
   "execution_count": 79,
   "id": "b92d4c71",
   "metadata": {},
   "outputs": [
    {
     "name": "stdout",
     "output_type": "stream",
     "text": [
      "Eres mayor de edad\n"
     ]
    }
   ],
   "source": [
    "edad = 45\n",
    "if edad >= 18 :\n",
    "    print(\"Eres mayor de edad\")\n",
    "else:\n",
    "    print(\"No eres mayor de edad\")"
   ]
  },
  {
   "cell_type": "code",
   "execution_count": 80,
   "id": "9c7d4882",
   "metadata": {},
   "outputs": [
    {
     "name": "stdout",
     "output_type": "stream",
     "text": [
      "No eres mayor de edad\n"
     ]
    }
   ],
   "source": [
    "edad = 12\n",
    "if edad >= 18 :\n",
    "    print(\"Eres mayor de edad\")\n",
    "else:\n",
    "    print(\"No eres mayor de edad\")"
   ]
  },
  {
   "cell_type": "markdown",
   "id": "e03412b9",
   "metadata": {},
   "source": [
    "elif es una extensión del if"
   ]
  },
  {
   "cell_type": "code",
   "execution_count": 81,
   "id": "9f1261dc",
   "metadata": {},
   "outputs": [
    {
     "data": {
      "text/plain": [
       "[1, 2, 3, 4, 5, 6, 7, 8, 9, 10]"
      ]
     },
     "execution_count": 81,
     "metadata": {},
     "output_type": "execute_result"
    }
   ],
   "source": [
    "X = [1,2,3,4,5,6,7,8,9,10]\n",
    "X"
   ]
  },
  {
   "cell_type": "code",
   "execution_count": 82,
   "id": "aa344971",
   "metadata": {},
   "outputs": [
    {
     "data": {
      "text/plain": [
       "10.0"
      ]
     },
     "execution_count": 82,
     "metadata": {},
     "output_type": "execute_result"
    }
   ],
   "source": [
    "20/2"
   ]
  },
  {
   "cell_type": "code",
   "execution_count": 83,
   "id": "b5b1ae5b",
   "metadata": {},
   "outputs": [
    {
     "data": {
      "text/plain": [
       "0"
      ]
     },
     "execution_count": 83,
     "metadata": {},
     "output_type": "execute_result"
    }
   ],
   "source": [
    "20%2"
   ]
  },
  {
   "cell_type": "code",
   "execution_count": 84,
   "id": "f8da4b2f",
   "metadata": {},
   "outputs": [
    {
     "data": {
      "text/plain": [
       "1"
      ]
     },
     "execution_count": 84,
     "metadata": {},
     "output_type": "execute_result"
    }
   ],
   "source": [
    "X[0]"
   ]
  },
  {
   "cell_type": "code",
   "execution_count": 85,
   "id": "cc1fc7bc",
   "metadata": {},
   "outputs": [
    {
     "name": "stdout",
     "output_type": "stream",
     "text": [
      "El número no es divisible por 3 y su resto es 1\n"
     ]
    }
   ],
   "source": [
    "if X[0]%23 == 0:\n",
    "    print(\"El número es divisible por 3 y su resto es 0\")\n",
    "elif X[0]%3 == 1:\n",
    "    print(\"El número no es divisible por 3 y su resto es 1\") \n",
    "else:\n",
    "    print(\"El número no es divisible por 3 y su resto es 2\")       "
   ]
  },
  {
   "cell_type": "code",
   "execution_count": 86,
   "id": "516462c5",
   "metadata": {},
   "outputs": [
    {
     "name": "stdout",
     "output_type": "stream",
     "text": [
      "El número es divisible por 3 y su resto es 0\n"
     ]
    }
   ],
   "source": [
    "j = 5\n",
    "\n",
    "if X[j] % 3 == 0:\n",
    "    print(\"El número es divisible por 3 y su resto es 0\")\n",
    "elif X[j] % 3 == 1:\n",
    "    print(\"El número no es divisible por 3 y su resto es 1\") \n",
    "else:\n",
    "    print(\"El número no es divisible por 3 y su resto es 2\")       "
   ]
  },
  {
   "cell_type": "markdown",
   "id": "c9eb44c0",
   "metadata": {},
   "source": [
    "Estructuras de repetición (bucles)"
   ]
  },
  {
   "cell_type": "code",
   "execution_count": 87,
   "id": "0bc3eb73",
   "metadata": {},
   "outputs": [
    {
     "name": "stdout",
     "output_type": "stream",
     "text": [
      "0\n",
      "1\n",
      "2\n",
      "3\n",
      "4\n"
     ]
    }
   ],
   "source": [
    "for i in range(5):\n",
    "    print(i)\n"
   ]
  },
  {
   "cell_type": "code",
   "execution_count": 88,
   "id": "33cb05c1",
   "metadata": {},
   "outputs": [
    {
     "name": "stdout",
     "output_type": "stream",
     "text": [
      "manzana\n",
      "banana\n",
      "cereza\n"
     ]
    }
   ],
   "source": [
    "frutas = [\"manzana\", \"banana\", \"cereza\"]\n",
    "for x in frutas:\n",
    "    print(x)"
   ]
  },
  {
   "cell_type": "code",
   "execution_count": 89,
   "id": "a6875f96",
   "metadata": {},
   "outputs": [
    {
     "name": "stdout",
     "output_type": "stream",
     "text": [
      "El número 1 no es divisible por 3 y su resto es 1\n",
      "El número 2 no es divisible por 3 y su resto es 2\n",
      "El número 3 es divisible por 3 y su resto es 0\n",
      "El número 4 no es divisible por 3 y su resto es 1\n",
      "El número 5 no es divisible por 3 y su resto es 2\n",
      "El número 6 es divisible por 3 y su resto es 0\n",
      "El número 7 no es divisible por 3 y su resto es 1\n",
      "El número 8 no es divisible por 3 y su resto es 2\n",
      "El número 9 es divisible por 3 y su resto es 0\n",
      "El número 10 no es divisible por 3 y su resto es 1\n"
     ]
    }
   ],
   "source": [
    "# Tratar de modificar la estructura para que funcones y diga si los elementos son divisibles por 3\n",
    "X = [1,2,3,4,5,6,7,8,9,10]\n",
    "\n",
    "for j in X:\n",
    "    if j % 3 == 0:\n",
    "        print(f\"El número {j} es divisible por 3 y su resto es 0\")\n",
    "    elif j % 3 == 1:\n",
    "        print(f\"El número {j} no es divisible por 3 y su resto es 1\") \n",
    "    else:\n",
    "        print(f\"El número {j} no es divisible por 3 y su resto es 2\")       "
   ]
  },
  {
   "cell_type": "code",
   "execution_count": null,
   "id": "2c1cdd37",
   "metadata": {},
   "outputs": [],
   "source": []
  },
  {
   "cell_type": "markdown",
   "id": "3d2dec37",
   "metadata": {},
   "source": [
    "Mientras"
   ]
  },
  {
   "cell_type": "code",
   "execution_count": null,
   "id": "22249c1e",
   "metadata": {},
   "outputs": [],
   "source": []
  },
  {
   "cell_type": "markdown",
   "id": "2d23de87",
   "metadata": {},
   "source": [
    "Mientras\n",
    "\n",
    "While (condicion):\n",
    "\n",
    "Lo que haga el programa\n",
    "\n",
    "condición auxiliar (condicion)\n"
   ]
  },
  {
   "cell_type": "code",
   "execution_count": 106,
   "id": "05d420bb",
   "metadata": {},
   "outputs": [
    {
     "name": "stdout",
     "output_type": "stream",
     "text": [
      "0\n",
      "1\n",
      "2\n",
      "3\n",
      "4\n"
     ]
    }
   ],
   "source": [
    "contador = 0\n",
    "\n",
    "while contador < 5:\n",
    "    print(contador)\n",
    "    contador = contador + 1\n"
   ]
  },
  {
   "cell_type": "code",
   "execution_count": 107,
   "id": "f572b7c8",
   "metadata": {},
   "outputs": [
    {
     "name": "stdout",
     "output_type": "stream",
     "text": [
      "0\n",
      "1\n",
      "2\n",
      "3\n",
      "4\n"
     ]
    }
   ],
   "source": [
    "contador = 0\n",
    "\n",
    "while contador < 5:\n",
    "    print(contador)\n",
    "    contador += 1\n"
   ]
  },
  {
   "cell_type": "code",
   "execution_count": 90,
   "id": "a4cf18bf",
   "metadata": {},
   "outputs": [
    {
     "data": {
      "text/plain": [
       "10"
      ]
     },
     "execution_count": 90,
     "metadata": {},
     "output_type": "execute_result"
    }
   ],
   "source": [
    "### Longitud o tamaño de una lista\n",
    "\n",
    "### len permite \n",
    "\n",
    "len(X)"
   ]
  },
  {
   "cell_type": "markdown",
   "id": "4417f334",
   "metadata": {},
   "source": [
    "la instrucción \"type\" permite identificar el tipo de objeto que estamos trabajando"
   ]
  },
  {
   "cell_type": "code",
   "execution_count": 92,
   "id": "b611655c",
   "metadata": {},
   "outputs": [
    {
     "data": {
      "text/plain": [
       "list"
      ]
     },
     "execution_count": 92,
     "metadata": {},
     "output_type": "execute_result"
    }
   ],
   "source": [
    "type(X)"
   ]
  },
  {
   "cell_type": "code",
   "execution_count": 93,
   "id": "c584c06d",
   "metadata": {},
   "outputs": [],
   "source": [
    "X1 = (1,2,3,4,5,6,7,8,9,10)\n"
   ]
  },
  {
   "cell_type": "code",
   "execution_count": 94,
   "id": "e6a86ff8",
   "metadata": {},
   "outputs": [
    {
     "data": {
      "text/plain": [
       "tuple"
      ]
     },
     "execution_count": 94,
     "metadata": {},
     "output_type": "execute_result"
    }
   ],
   "source": [
    "type(X1)"
   ]
  },
  {
   "cell_type": "code",
   "execution_count": 97,
   "id": "dfb0f0f0",
   "metadata": {},
   "outputs": [
    {
     "data": {
      "text/plain": [
       "10"
      ]
     },
     "execution_count": 97,
     "metadata": {},
     "output_type": "execute_result"
    }
   ],
   "source": [
    "len(X1)\n"
   ]
  },
  {
   "cell_type": "code",
   "execution_count": 95,
   "id": "62ddad0a",
   "metadata": {},
   "outputs": [
    {
     "data": {
      "text/plain": [
       "set"
      ]
     },
     "execution_count": 95,
     "metadata": {},
     "output_type": "execute_result"
    }
   ],
   "source": [
    "X2 = {\"1\", \"2\", \"3\", \"4\", \"5\",\"6\", \"7\",\"8\", \"9\", \"10\"}\n",
    "\n",
    "type(X2)"
   ]
  },
  {
   "cell_type": "code",
   "execution_count": 96,
   "id": "7279be42",
   "metadata": {},
   "outputs": [
    {
     "data": {
      "text/plain": [
       "10"
      ]
     },
     "execution_count": 96,
     "metadata": {},
     "output_type": "execute_result"
    }
   ],
   "source": [
    "len(X2)"
   ]
  },
  {
   "cell_type": "code",
   "execution_count": 99,
   "id": "69c3a8db",
   "metadata": {},
   "outputs": [
    {
     "data": {
      "text/plain": [
       "[1, 2, 3, 4, 5, 6, 7, 8, 9, 10]"
      ]
     },
     "execution_count": 99,
     "metadata": {},
     "output_type": "execute_result"
    }
   ],
   "source": [
    "X"
   ]
  },
  {
   "cell_type": "code",
   "execution_count": 98,
   "id": "c608b575",
   "metadata": {},
   "outputs": [
    {
     "data": {
      "text/plain": [
       "7"
      ]
     },
     "execution_count": 98,
     "metadata": {},
     "output_type": "execute_result"
    }
   ],
   "source": [
    "X[6]"
   ]
  },
  {
   "cell_type": "code",
   "execution_count": 100,
   "id": "8d04e9ef",
   "metadata": {},
   "outputs": [
    {
     "data": {
      "text/plain": [
       "5"
      ]
     },
     "execution_count": 100,
     "metadata": {},
     "output_type": "execute_result"
    }
   ],
   "source": [
    "X[4]"
   ]
  },
  {
   "cell_type": "markdown",
   "id": "ab876db1",
   "metadata": {},
   "source": [
    "Cada vez que se coloca X[j] estamos indicando al programa que me muestra el elemento de X está en la posición j"
   ]
  },
  {
   "cell_type": "code",
   "execution_count": 101,
   "id": "2755507d",
   "metadata": {},
   "outputs": [
    {
     "data": {
      "text/plain": [
       "3"
      ]
     },
     "execution_count": 101,
     "metadata": {},
     "output_type": "execute_result"
    }
   ],
   "source": [
    "X1[2]"
   ]
  },
  {
   "cell_type": "code",
   "execution_count": 102,
   "id": "5882020e",
   "metadata": {},
   "outputs": [
    {
     "data": {
      "text/plain": [
       "(1, 2, 3, 4, 5, 6, 7, 8, 9, 10)"
      ]
     },
     "execution_count": 102,
     "metadata": {},
     "output_type": "execute_result"
    }
   ],
   "source": [
    "X1"
   ]
  },
  {
   "cell_type": "code",
   "execution_count": 103,
   "id": "237422d7",
   "metadata": {},
   "outputs": [
    {
     "data": {
      "text/plain": [
       "3"
      ]
     },
     "execution_count": 103,
     "metadata": {},
     "output_type": "execute_result"
    }
   ],
   "source": [
    "X1[2]"
   ]
  },
  {
   "cell_type": "code",
   "execution_count": 104,
   "id": "5429680b",
   "metadata": {},
   "outputs": [
    {
     "data": {
      "text/plain": [
       "{'1', '10', '2', '3', '4', '5', '6', '7', '8', '9'}"
      ]
     },
     "execution_count": 104,
     "metadata": {},
     "output_type": "execute_result"
    }
   ],
   "source": [
    "X2"
   ]
  },
  {
   "cell_type": "code",
   "execution_count": 108,
   "id": "e55249cd",
   "metadata": {},
   "outputs": [
    {
     "name": "stdout",
     "output_type": "stream",
     "text": [
      "El número 1 no es divisible por 3 y su resto es 1\n",
      "El número 2 no es divisible por 3 y su resto es 2\n",
      "El número 3 es divisible por 3 y su resto es 0\n",
      "El número 4 no es divisible por 3 y su resto es 1\n",
      "El número 5 no es divisible por 3 y su resto es 2\n",
      "El número 6 es divisible por 3 y su resto es 0\n",
      "El número 7 no es divisible por 3 y su resto es 1\n",
      "El número 8 no es divisible por 3 y su resto es 2\n",
      "El número 9 es divisible por 3 y su resto es 0\n",
      "El número 10 no es divisible por 3 y su resto es 1\n"
     ]
    }
   ],
   "source": [
    "# X = [1,2,3,4,5,6,7,8,9,10]\n",
    "i = 0\n",
    "\n",
    "while i < len(X):\n",
    "    j = X[i]\n",
    "    if j % 3 == 0:\n",
    "        print(f\"El número {j} es divisible por 3 y su resto es 0\")\n",
    "    elif j % 3 == 1:\n",
    "        print(f\"El número {j} no es divisible por 3 y su resto es 1\") \n",
    "    else:\n",
    "        print(f\"El número {j} no es divisible por 3 y su resto es 2\")       \n",
    "    i +=1 # i = i+1    "
   ]
  },
  {
   "cell_type": "code",
   "execution_count": 110,
   "id": "44622588",
   "metadata": {},
   "outputs": [
    {
     "name": "stdout",
     "output_type": "stream",
     "text": [
      "5\n",
      "10\n",
      "15\n",
      "20\n",
      "25\n",
      "30\n",
      "35\n",
      "40\n",
      "45\n"
     ]
    }
   ],
   "source": [
    "continuar = True\n",
    "suma = 0\n",
    "while continuar == True:\n",
    "    suma = suma + 5\n",
    "    print (suma)\n",
    "    if suma == 45:\n",
    "       continuar = False\n",
    "      "
   ]
  },
  {
   "cell_type": "code",
   "execution_count": 105,
   "id": "7997695b",
   "metadata": {},
   "outputs": [
    {
     "ename": "TypeError",
     "evalue": "'set' object is not subscriptable",
     "output_type": "error",
     "traceback": [
      "\u001b[31m---------------------------------------------------------------------------\u001b[39m",
      "\u001b[31mTypeError\u001b[39m                                 Traceback (most recent call last)",
      "\u001b[36mCell\u001b[39m\u001b[36m \u001b[39m\u001b[32mIn[105]\u001b[39m\u001b[32m, line 1\u001b[39m\n\u001b[32m----> \u001b[39m\u001b[32m1\u001b[39m \u001b[43mX2\u001b[49m\u001b[43m[\u001b[49m\u001b[32;43m2\u001b[39;49m\u001b[43m]\u001b[49m\n",
      "\u001b[31mTypeError\u001b[39m: 'set' object is not subscriptable"
     ]
    }
   ],
   "source": [
    "X2[2]"
   ]
  },
  {
   "cell_type": "markdown",
   "id": "aafa616a",
   "metadata": {},
   "source": [
    "Tarea: Inverstigar cómo llamar a un elemento de un conjunto en Python\n",
    "\n",
    "Respuesta :\n",
    "\n",
    "Cómo acceder a los elementos de un conjunto en Python\n",
    "Dado que los conjuntos son colecciones desordenadas, en ellos no se guarda la posición en la que son insertados los elementos como ocurre en los tipos list o tuple. Es por ello que no se puede acceder a los elementos a través de un índice."
   ]
  }
 ],
 "metadata": {
  "kernelspec": {
   "display_name": "Python 3",
   "language": "python",
   "name": "python3"
  },
  "language_info": {
   "codemirror_mode": {
    "name": "ipython",
    "version": 3
   },
   "file_extension": ".py",
   "mimetype": "text/x-python",
   "name": "python",
   "nbconvert_exporter": "python",
   "pygments_lexer": "ipython3",
   "version": "3.12.1"
  }
 },
 "nbformat": 4,
 "nbformat_minor": 5
}
