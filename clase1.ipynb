{
 "cells": [
  {
   "cell_type": "code",
   "execution_count": 3,
   "id": "ebd1314d",
   "metadata": {},
   "outputs": [
    {
     "name": "stdout",
     "output_type": "stream",
     "text": [
      "Hello, World!\n"
     ]
    }
   ],
   "source": [
    "print(\"Hello, World!\")"
   ]
  },
  {
   "cell_type": "code",
   "execution_count": 4,
   "id": "7b8d6f15",
   "metadata": {},
   "outputs": [
    {
     "name": "stdout",
     "output_type": "stream",
     "text": [
      "Bienvenidos a las prácticas de Python\n"
     ]
    }
   ],
   "source": [
    "print(\"Bienvenidos a las prácticas de Python\")"
   ]
  },
  {
   "cell_type": "markdown",
   "id": "cbc6eafe",
   "metadata": {},
   "source": [
    "Este es un segmento de texto\n",
    "#Títulos\n",
    "#Subtítulos\n",
    "## Otros Subtítulos"
   ]
  },
  {
   "cell_type": "code",
   "execution_count": null,
   "id": "37c29cac",
   "metadata": {},
   "outputs": [],
   "source": []
  },
  {
   "cell_type": "code",
   "execution_count": 21,
   "id": "a7b8c947",
   "metadata": {},
   "outputs": [],
   "source": [
    "nombre = \"Juan\"\n",
    "edad = 25\n",
    "altura = 1.80\n",
    "es_estudiante = True\n"
   ]
  },
  {
   "cell_type": "code",
   "execution_count": 22,
   "id": "639a5e26",
   "metadata": {},
   "outputs": [
    {
     "name": "stdout",
     "output_type": "stream",
     "text": [
      "25\n"
     ]
    }
   ],
   "source": [
    "print(edad)"
   ]
  },
  {
   "cell_type": "code",
   "execution_count": 23,
   "id": "bee2799d",
   "metadata": {},
   "outputs": [
    {
     "name": "stdout",
     "output_type": "stream",
     "text": [
      "1.8\n"
     ]
    }
   ],
   "source": [
    "print(altura)"
   ]
  },
  {
   "cell_type": "code",
   "execution_count": 24,
   "id": "58b3be90",
   "metadata": {},
   "outputs": [
    {
     "name": "stdout",
     "output_type": "stream",
     "text": [
      "El ususario se llama Juan, tiene 25 años de edad, mide 1.8 metros\n"
     ]
    }
   ],
   "source": [
    "print(f\"El ususario se llama {nombre}, tiene {edad} años de edad, mide {altura} metros\")"
   ]
  },
  {
   "cell_type": "code",
   "execution_count": 25,
   "id": "3aab5ce0",
   "metadata": {},
   "outputs": [
    {
     "name": "stdout",
     "output_type": "stream",
     "text": [
      "Número original: 10\n",
      "Número nuevo: 60\n"
     ]
    }
   ],
   "source": [
    "mi_numero = 10\n",
    "print(f\"Número original: {mi_numero}\")\n",
    "\n",
    "mi_numero = 60\n",
    "print(f\"Número nuevo: {mi_numero}\")"
   ]
  },
  {
   "cell_type": "code",
   "execution_count": 26,
   "id": "90b88e45",
   "metadata": {},
   "outputs": [],
   "source": [
    "num_int1 = 123\n",
    "num_int2 = -57"
   ]
  },
  {
   "cell_type": "code",
   "execution_count": 27,
   "id": "1b097bda",
   "metadata": {},
   "outputs": [],
   "source": [
    "num_float1 = 3.14\n",
    "num_float2 = -0.16"
   ]
  },
  {
   "cell_type": "code",
   "execution_count": 28,
   "id": "88ecaf90",
   "metadata": {},
   "outputs": [],
   "source": [
    "bool_var1 = True\n",
    "bool_var2 = False"
   ]
  },
  {
   "cell_type": "code",
   "execution_count": 29,
   "id": "340bb4cc",
   "metadata": {},
   "outputs": [
    {
     "data": {
      "text/plain": [
       "True"
      ]
     },
     "execution_count": 29,
     "metadata": {},
     "output_type": "execute_result"
    }
   ],
   "source": [
    "bool_var1"
   ]
  },
  {
   "cell_type": "code",
   "execution_count": 30,
   "id": "ecd97485",
   "metadata": {},
   "outputs": [
    {
     "data": {
      "text/plain": [
       "False"
      ]
     },
     "execution_count": 30,
     "metadata": {},
     "output_type": "execute_result"
    }
   ],
   "source": [
    "bool_var1\n",
    "bool_var2"
   ]
  },
  {
   "cell_type": "code",
   "execution_count": 31,
   "id": "3a29221f",
   "metadata": {},
   "outputs": [
    {
     "data": {
      "text/plain": [
       "True"
      ]
     },
     "execution_count": 31,
     "metadata": {},
     "output_type": "execute_result"
    }
   ],
   "source": [
    "bool_var2\n",
    "bool_var1"
   ]
  },
  {
   "cell_type": "code",
   "execution_count": 32,
   "id": "39ceaf7c",
   "metadata": {},
   "outputs": [
    {
     "name": "stdout",
     "output_type": "stream",
     "text": [
      "True\n",
      "False\n"
     ]
    }
   ],
   "source": [
    "print(bool_var1)\n",
    "print(bool_var2)"
   ]
  },
  {
   "cell_type": "code",
   "execution_count": 33,
   "id": "71a5d9a7",
   "metadata": {},
   "outputs": [],
   "source": [
    "list_numbers = [1, 2, 3, 4, 5]\n",
    "list_strings = [\"A\", \"B\", \"C\", \"D\"]"
   ]
  },
  {
   "cell_type": "code",
   "execution_count": 34,
   "id": "397a4dce",
   "metadata": {},
   "outputs": [
    {
     "data": {
      "text/plain": [
       "'A'"
      ]
     },
     "execution_count": 34,
     "metadata": {},
     "output_type": "execute_result"
    }
   ],
   "source": [
    "list_strings[0]"
   ]
  },
  {
   "cell_type": "code",
   "execution_count": 35,
   "id": "d5840ec2",
   "metadata": {},
   "outputs": [
    {
     "data": {
      "text/plain": [
       "1"
      ]
     },
     "execution_count": 35,
     "metadata": {},
     "output_type": "execute_result"
    }
   ],
   "source": [
    "list_numbers[0]"
   ]
  },
  {
   "cell_type": "markdown",
   "id": "11b9ad11",
   "metadata": {},
   "source": [
    "Para una lista (suponer que se llama X)\n",
    " \n",
    "     X = [a1, a2, a3, a4, ..., an]\n",
    "posicion:  0   1  2    3 ..... n-1\n"
   ]
  },
  {
   "cell_type": "code",
   "execution_count": 37,
   "id": "6ce68672",
   "metadata": {},
   "outputs": [
    {
     "data": {
      "text/plain": [
       "'C'"
      ]
     },
     "execution_count": 37,
     "metadata": {},
     "output_type": "execute_result"
    }
   ],
   "source": [
    "list_strings[2]"
   ]
  }
 ],
 "metadata": {
  "kernelspec": {
   "display_name": "Python 3",
   "language": "python",
   "name": "python3"
  },
  "language_info": {
   "codemirror_mode": {
    "name": "ipython",
    "version": 3
   },
   "file_extension": ".py",
   "mimetype": "text/x-python",
   "name": "python",
   "nbconvert_exporter": "python",
   "pygments_lexer": "ipython3",
   "version": "3.12.1"
  }
 },
 "nbformat": 4,
 "nbformat_minor": 5
}
