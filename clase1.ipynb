{
 "cells": [
  {
   "cell_type": "code",
   "execution_count": 212,
   "id": "ebd1314d",
   "metadata": {},
   "outputs": [
    {
     "name": "stdout",
     "output_type": "stream",
     "text": [
      "Hello, World!\n"
     ]
    }
   ],
   "source": [
    "print(\"Hello, World!\")"
   ]
  },
  {
   "cell_type": "code",
   "execution_count": 213,
   "id": "7b8d6f15",
   "metadata": {},
   "outputs": [
    {
     "name": "stdout",
     "output_type": "stream",
     "text": [
      "Bienvenidos a las prácticas de Python\n"
     ]
    }
   ],
   "source": [
    "print(\"Bienvenidos a las prácticas de Python\")"
   ]
  },
  {
   "cell_type": "code",
   "execution_count": null,
   "id": "64de8460",
   "metadata": {},
   "outputs": [],
   "source": []
  },
  {
   "cell_type": "markdown",
   "id": "cbc6eafe",
   "metadata": {},
   "source": [
    "Este es un segmento de texto\n",
    "#Títulos\n",
    "#Subtítulos\n",
    "## Otros Subtítulos"
   ]
  },
  {
   "cell_type": "code",
   "execution_count": null,
   "id": "37c29cac",
   "metadata": {},
   "outputs": [],
   "source": []
  },
  {
   "cell_type": "code",
   "execution_count": 214,
   "id": "a7b8c947",
   "metadata": {},
   "outputs": [],
   "source": [
    "nombre = \"Juan\"\n",
    "edad = 25\n",
    "altura = 1.80\n",
    "es_estudiante = True\n"
   ]
  },
  {
   "cell_type": "code",
   "execution_count": 215,
   "id": "639a5e26",
   "metadata": {},
   "outputs": [
    {
     "name": "stdout",
     "output_type": "stream",
     "text": [
      "25\n"
     ]
    }
   ],
   "source": [
    "print(edad)"
   ]
  },
  {
   "cell_type": "code",
   "execution_count": 216,
   "id": "bee2799d",
   "metadata": {},
   "outputs": [
    {
     "name": "stdout",
     "output_type": "stream",
     "text": [
      "1.8\n"
     ]
    }
   ],
   "source": [
    "print(altura)"
   ]
  },
  {
   "cell_type": "code",
   "execution_count": 217,
   "id": "58b3be90",
   "metadata": {},
   "outputs": [
    {
     "name": "stdout",
     "output_type": "stream",
     "text": [
      "El ususario se llama Juan, tiene 25 años de edad, mide 1.8 metros\n"
     ]
    }
   ],
   "source": [
    "print(f\"El ususario se llama {nombre}, tiene {edad} años de edad, mide {altura} metros\")"
   ]
  },
  {
   "cell_type": "code",
   "execution_count": 218,
   "id": "3aab5ce0",
   "metadata": {},
   "outputs": [
    {
     "name": "stdout",
     "output_type": "stream",
     "text": [
      "Número original: 10\n",
      "Número nuevo: 60\n"
     ]
    }
   ],
   "source": [
    "mi_numero = 10\n",
    "print(f\"Número original: {mi_numero}\")\n",
    "\n",
    "mi_numero = 60\n",
    "print(f\"Número nuevo: {mi_numero}\")"
   ]
  },
  {
   "cell_type": "code",
   "execution_count": 219,
   "id": "90b88e45",
   "metadata": {},
   "outputs": [],
   "source": [
    "num_int1 = 123\n",
    "num_int2 = -57"
   ]
  },
  {
   "cell_type": "code",
   "execution_count": 220,
   "id": "1b097bda",
   "metadata": {},
   "outputs": [],
   "source": [
    "num_float1 = 3.14\n",
    "num_float2 = -0.16"
   ]
  },
  {
   "cell_type": "code",
   "execution_count": 221,
   "id": "88ecaf90",
   "metadata": {},
   "outputs": [],
   "source": [
    "bool_var1 = True\n",
    "bool_var2 = False"
   ]
  },
  {
   "cell_type": "code",
   "execution_count": 222,
   "id": "340bb4cc",
   "metadata": {},
   "outputs": [
    {
     "data": {
      "text/plain": [
       "True"
      ]
     },
     "execution_count": 222,
     "metadata": {},
     "output_type": "execute_result"
    }
   ],
   "source": [
    "bool_var1"
   ]
  },
  {
   "cell_type": "code",
   "execution_count": 223,
   "id": "ecd97485",
   "metadata": {},
   "outputs": [
    {
     "data": {
      "text/plain": [
       "False"
      ]
     },
     "execution_count": 223,
     "metadata": {},
     "output_type": "execute_result"
    }
   ],
   "source": [
    "bool_var1\n",
    "bool_var2"
   ]
  },
  {
   "cell_type": "code",
   "execution_count": 224,
   "id": "3a29221f",
   "metadata": {},
   "outputs": [
    {
     "data": {
      "text/plain": [
       "True"
      ]
     },
     "execution_count": 224,
     "metadata": {},
     "output_type": "execute_result"
    }
   ],
   "source": [
    "bool_var2\n",
    "bool_var1"
   ]
  },
  {
   "cell_type": "code",
   "execution_count": 225,
   "id": "39ceaf7c",
   "metadata": {},
   "outputs": [
    {
     "name": "stdout",
     "output_type": "stream",
     "text": [
      "True\n",
      "False\n"
     ]
    }
   ],
   "source": [
    "print(bool_var1)\n",
    "print(bool_var2)"
   ]
  },
  {
   "cell_type": "code",
   "execution_count": 226,
   "id": "71a5d9a7",
   "metadata": {},
   "outputs": [],
   "source": [
    "list_numbers = [1, 2, 3, 4, 5]\n",
    "list_strings = [\"A\", \"B\", \"C\", \"D\"]"
   ]
  },
  {
   "cell_type": "code",
   "execution_count": 227,
   "id": "397a4dce",
   "metadata": {},
   "outputs": [
    {
     "data": {
      "text/plain": [
       "'A'"
      ]
     },
     "execution_count": 227,
     "metadata": {},
     "output_type": "execute_result"
    }
   ],
   "source": [
    "list_strings[0]"
   ]
  },
  {
   "cell_type": "code",
   "execution_count": 228,
   "id": "d5840ec2",
   "metadata": {},
   "outputs": [
    {
     "data": {
      "text/plain": [
       "1"
      ]
     },
     "execution_count": 228,
     "metadata": {},
     "output_type": "execute_result"
    }
   ],
   "source": [
    "list_numbers[0]"
   ]
  },
  {
   "cell_type": "markdown",
   "id": "11b9ad11",
   "metadata": {},
   "source": [
    "Para una lista (suponer que se llama X)\n",
    " \n",
    "     X = [a1, a2, a3, a4, ..., an]\n",
    "posicion:  0   1  2    3 ..... n-1\n"
   ]
  },
  {
   "cell_type": "code",
   "execution_count": 229,
   "id": "6ce68672",
   "metadata": {},
   "outputs": [
    {
     "data": {
      "text/plain": [
       "'C'"
      ]
     },
     "execution_count": 229,
     "metadata": {},
     "output_type": "execute_result"
    }
   ],
   "source": [
    "list_strings[2]"
   ]
  },
  {
   "cell_type": "code",
   "execution_count": 230,
   "id": "147a8c60",
   "metadata": {},
   "outputs": [],
   "source": [
    "x = 5\n",
    "y = 3\n",
    "z = x + y  # Salida: z = 8\n",
    "z = x * y  # Salida: z = 15"
   ]
  },
  {
   "cell_type": "markdown",
   "id": "f54db35e",
   "metadata": {},
   "source": [
    "Operadores Lógicos"
   ]
  },
  {
   "cell_type": "code",
   "execution_count": 231,
   "id": "9a6ec582",
   "metadata": {},
   "outputs": [
    {
     "data": {
      "text/plain": [
       "False"
      ]
     },
     "execution_count": 231,
     "metadata": {},
     "output_type": "execute_result"
    }
   ],
   "source": [
    "True and False"
   ]
  },
  {
   "cell_type": "code",
   "execution_count": 232,
   "id": "7da42f28",
   "metadata": {},
   "outputs": [
    {
     "data": {
      "text/plain": [
       "True"
      ]
     },
     "execution_count": 232,
     "metadata": {},
     "output_type": "execute_result"
    }
   ],
   "source": [
    "True or False"
   ]
  },
  {
   "cell_type": "code",
   "execution_count": 233,
   "id": "ea440b4a",
   "metadata": {},
   "outputs": [
    {
     "data": {
      "text/plain": [
       "True"
      ]
     },
     "execution_count": 233,
     "metadata": {},
     "output_type": "execute_result"
    }
   ],
   "source": [
    "not False\n",
    "\n"
   ]
  },
  {
   "cell_type": "code",
   "execution_count": 234,
   "id": "bac5d674",
   "metadata": {},
   "outputs": [
    {
     "data": {
      "text/plain": [
       "False"
      ]
     },
     "execution_count": 234,
     "metadata": {},
     "output_type": "execute_result"
    }
   ],
   "source": [
    "not not False"
   ]
  },
  {
   "cell_type": "markdown",
   "id": "2ed8468f",
   "metadata": {},
   "source": [
    "## Estructura de Decisión\n",
    "\n",
    "Si\n",
    "If \"Regla\" : Secoloca la instrucción/operación que hará la máquina"
   ]
  },
  {
   "cell_type": "code",
   "execution_count": 297,
   "id": "e1a3e125",
   "metadata": {},
   "outputs": [
    {
     "name": "stdout",
     "output_type": "stream",
     "text": [
      "Eres mayor de edad\n"
     ]
    }
   ],
   "source": [
    "edad = 45\n",
    "if edad >= 18 :\n",
    "    print(\"Eres mayor de edad\")"
   ]
  },
  {
   "cell_type": "code",
   "execution_count": 298,
   "id": "1a2f14a7",
   "metadata": {},
   "outputs": [
    {
     "data": {
      "text/plain": [
       "True"
      ]
     },
     "execution_count": 298,
     "metadata": {},
     "output_type": "execute_result"
    }
   ],
   "source": [
    "edad >= 18"
   ]
  },
  {
   "cell_type": "markdown",
   "id": "e2dfa33a",
   "metadata": {},
   "source": [
    "Sino, complemento del condicional Si\n",
    "\n",
    "Si (condición):\n",
    "    Lo que haga el programa\n",
    "    \n",
    "en caso contrario (else)\n",
    "    lo que deba hacer"
   ]
  },
  {
   "cell_type": "code",
   "execution_count": 299,
   "id": "b92d4c71",
   "metadata": {},
   "outputs": [
    {
     "name": "stdout",
     "output_type": "stream",
     "text": [
      "Eres mayor de edad\n"
     ]
    }
   ],
   "source": [
    "edad = 45\n",
    "if edad >= 18 :\n",
    "    print(\"Eres mayor de edad\")\n",
    "else:\n",
    "    print(\"No eres mayor de edad\")"
   ]
  },
  {
   "cell_type": "code",
   "execution_count": 300,
   "id": "9c7d4882",
   "metadata": {},
   "outputs": [
    {
     "name": "stdout",
     "output_type": "stream",
     "text": [
      "No eres mayor de edad\n"
     ]
    }
   ],
   "source": [
    "edad = 12\n",
    "if edad >= 18 :\n",
    "    print(\"Eres mayor de edad\")\n",
    "else:\n",
    "    print(\"No eres mayor de edad\")"
   ]
  },
  {
   "cell_type": "markdown",
   "id": "e03412b9",
   "metadata": {},
   "source": [
    "elif es una extensión del if"
   ]
  },
  {
   "cell_type": "code",
   "execution_count": 301,
   "id": "9f1261dc",
   "metadata": {},
   "outputs": [
    {
     "data": {
      "text/plain": [
       "[1, 2, 3, 4, 5, 6, 7, 8, 9, 10]"
      ]
     },
     "execution_count": 301,
     "metadata": {},
     "output_type": "execute_result"
    }
   ],
   "source": [
    "X = [1,2,3,4,5,6,7,8,9,10]\n",
    "X"
   ]
  },
  {
   "cell_type": "code",
   "execution_count": 302,
   "id": "aa344971",
   "metadata": {},
   "outputs": [
    {
     "data": {
      "text/plain": [
       "10.0"
      ]
     },
     "execution_count": 302,
     "metadata": {},
     "output_type": "execute_result"
    }
   ],
   "source": [
    "20/2"
   ]
  },
  {
   "cell_type": "code",
   "execution_count": 303,
   "id": "b5b1ae5b",
   "metadata": {},
   "outputs": [
    {
     "data": {
      "text/plain": [
       "0"
      ]
     },
     "execution_count": 303,
     "metadata": {},
     "output_type": "execute_result"
    }
   ],
   "source": [
    "20%2"
   ]
  },
  {
   "cell_type": "code",
   "execution_count": 304,
   "id": "f8da4b2f",
   "metadata": {},
   "outputs": [
    {
     "data": {
      "text/plain": [
       "1"
      ]
     },
     "execution_count": 304,
     "metadata": {},
     "output_type": "execute_result"
    }
   ],
   "source": [
    "X[0]"
   ]
  },
  {
   "cell_type": "code",
   "execution_count": 305,
   "id": "cc1fc7bc",
   "metadata": {},
   "outputs": [
    {
     "name": "stdout",
     "output_type": "stream",
     "text": [
      "El número no es divisible por 3 y su resto es 1\n"
     ]
    }
   ],
   "source": [
    "if X[0]%23 == 0:\n",
    "    print(\"El número es divisible por 3 y su resto es 0\")\n",
    "elif X[0]%3 == 1:\n",
    "    print(\"El número no es divisible por 3 y su resto es 1\") \n",
    "else:\n",
    "    print(\"El número no es divisible por 3 y su resto es 2\")       "
   ]
  },
  {
   "cell_type": "code",
   "execution_count": 306,
   "id": "516462c5",
   "metadata": {},
   "outputs": [
    {
     "name": "stdout",
     "output_type": "stream",
     "text": [
      "El número es divisible por 3 y su resto es 0\n"
     ]
    }
   ],
   "source": [
    "j = 5\n",
    "\n",
    "if X[j] % 3 == 0:\n",
    "    print(\"El número es divisible por 3 y su resto es 0\")\n",
    "elif X[j] % 3 == 1:\n",
    "    print(\"El número no es divisible por 3 y su resto es 1\") \n",
    "else:\n",
    "    print(\"El número no es divisible por 3 y su resto es 2\")       "
   ]
  },
  {
   "cell_type": "markdown",
   "id": "c9eb44c0",
   "metadata": {},
   "source": [
    "Estructuras de repetición (bucles)"
   ]
  },
  {
   "cell_type": "code",
   "execution_count": 307,
   "id": "0bc3eb73",
   "metadata": {},
   "outputs": [
    {
     "name": "stdout",
     "output_type": "stream",
     "text": [
      "0\n",
      "1\n",
      "2\n",
      "3\n",
      "4\n"
     ]
    }
   ],
   "source": [
    "for i in range(5):\n",
    "    print(i)\n"
   ]
  },
  {
   "cell_type": "code",
   "execution_count": 308,
   "id": "33cb05c1",
   "metadata": {},
   "outputs": [
    {
     "name": "stdout",
     "output_type": "stream",
     "text": [
      "manzana\n",
      "banana\n",
      "cereza\n"
     ]
    }
   ],
   "source": [
    "frutas = [\"manzana\", \"banana\", \"cereza\"]\n",
    "for x in frutas:\n",
    "    print(x)"
   ]
  },
  {
   "cell_type": "code",
   "execution_count": 309,
   "id": "a6875f96",
   "metadata": {},
   "outputs": [
    {
     "name": "stdout",
     "output_type": "stream",
     "text": [
      "El número 1 no es divisible por 3 y su resto es 1\n",
      "El número 2 no es divisible por 3 y su resto es 2\n",
      "El número 3 es divisible por 3 y su resto es 0\n",
      "El número 4 no es divisible por 3 y su resto es 1\n",
      "El número 5 no es divisible por 3 y su resto es 2\n",
      "El número 6 es divisible por 3 y su resto es 0\n",
      "El número 7 no es divisible por 3 y su resto es 1\n",
      "El número 8 no es divisible por 3 y su resto es 2\n",
      "El número 9 es divisible por 3 y su resto es 0\n",
      "El número 10 no es divisible por 3 y su resto es 1\n"
     ]
    }
   ],
   "source": [
    "# Tratar de modificar la estructura para que funcones y diga si los elementos son divisibles por 3\n",
    "X = [1,2,3,4,5,6,7,8,9,10]\n",
    "\n",
    "for j in X:\n",
    "    if j % 3 == 0:\n",
    "        print(f\"El número {j} es divisible por 3 y su resto es 0\")\n",
    "    elif j % 3 == 1:\n",
    "        print(f\"El número {j} no es divisible por 3 y su resto es 1\") \n",
    "    else:\n",
    "        print(f\"El número {j} no es divisible por 3 y su resto es 2\")       "
   ]
  },
  {
   "cell_type": "code",
   "execution_count": null,
   "id": "2c1cdd37",
   "metadata": {},
   "outputs": [],
   "source": []
  },
  {
   "cell_type": "markdown",
   "id": "3d2dec37",
   "metadata": {},
   "source": [
    "Mientras"
   ]
  },
  {
   "cell_type": "code",
   "execution_count": null,
   "id": "22249c1e",
   "metadata": {},
   "outputs": [],
   "source": []
  },
  {
   "cell_type": "markdown",
   "id": "2d23de87",
   "metadata": {},
   "source": [
    "Mientras\n",
    "\n",
    "While (condicion):\n",
    "\n",
    "Lo que haga el programa\n",
    "\n",
    "condición auxiliar (condicion)\n"
   ]
  },
  {
   "cell_type": "code",
   "execution_count": 310,
   "id": "05d420bb",
   "metadata": {},
   "outputs": [
    {
     "name": "stdout",
     "output_type": "stream",
     "text": [
      "0\n",
      "1\n",
      "2\n",
      "3\n",
      "4\n"
     ]
    }
   ],
   "source": [
    "contador = 0\n",
    "\n",
    "while contador < 5:\n",
    "    print(contador)\n",
    "    contador = contador + 1\n"
   ]
  },
  {
   "cell_type": "code",
   "execution_count": 311,
   "id": "f572b7c8",
   "metadata": {},
   "outputs": [
    {
     "name": "stdout",
     "output_type": "stream",
     "text": [
      "0\n",
      "1\n",
      "2\n",
      "3\n",
      "4\n"
     ]
    }
   ],
   "source": [
    "contador = 0\n",
    "\n",
    "while contador < 5:\n",
    "    print(contador)\n",
    "    contador += 1\n"
   ]
  },
  {
   "cell_type": "code",
   "execution_count": 312,
   "id": "a4cf18bf",
   "metadata": {},
   "outputs": [
    {
     "data": {
      "text/plain": [
       "10"
      ]
     },
     "execution_count": 312,
     "metadata": {},
     "output_type": "execute_result"
    }
   ],
   "source": [
    "### Longitud o tamaño de una lista\n",
    "\n",
    "### len permite \n",
    "\n",
    "len(X)"
   ]
  },
  {
   "cell_type": "markdown",
   "id": "4417f334",
   "metadata": {},
   "source": [
    "la instrucción \"type\" permite identificar el tipo de objeto que estamos trabajando"
   ]
  },
  {
   "cell_type": "code",
   "execution_count": 313,
   "id": "b611655c",
   "metadata": {},
   "outputs": [
    {
     "data": {
      "text/plain": [
       "list"
      ]
     },
     "execution_count": 313,
     "metadata": {},
     "output_type": "execute_result"
    }
   ],
   "source": [
    "type(X)"
   ]
  },
  {
   "cell_type": "code",
   "execution_count": 314,
   "id": "c584c06d",
   "metadata": {},
   "outputs": [],
   "source": [
    "X1 = (1,2,3,4,5,6,7,8,9,10)\n"
   ]
  },
  {
   "cell_type": "code",
   "execution_count": 315,
   "id": "e6a86ff8",
   "metadata": {},
   "outputs": [
    {
     "data": {
      "text/plain": [
       "tuple"
      ]
     },
     "execution_count": 315,
     "metadata": {},
     "output_type": "execute_result"
    }
   ],
   "source": [
    "type(X1)"
   ]
  },
  {
   "cell_type": "code",
   "execution_count": 316,
   "id": "dfb0f0f0",
   "metadata": {},
   "outputs": [
    {
     "data": {
      "text/plain": [
       "10"
      ]
     },
     "execution_count": 316,
     "metadata": {},
     "output_type": "execute_result"
    }
   ],
   "source": [
    "len(X1)\n"
   ]
  },
  {
   "cell_type": "code",
   "execution_count": 317,
   "id": "62ddad0a",
   "metadata": {},
   "outputs": [
    {
     "data": {
      "text/plain": [
       "set"
      ]
     },
     "execution_count": 317,
     "metadata": {},
     "output_type": "execute_result"
    }
   ],
   "source": [
    "X2 = {\"1\", \"2\", \"3\", \"4\", \"5\",\"6\", \"7\",\"8\", \"9\", \"10\"}\n",
    "\n",
    "type(X2)"
   ]
  },
  {
   "cell_type": "code",
   "execution_count": 318,
   "id": "7279be42",
   "metadata": {},
   "outputs": [
    {
     "data": {
      "text/plain": [
       "10"
      ]
     },
     "execution_count": 318,
     "metadata": {},
     "output_type": "execute_result"
    }
   ],
   "source": [
    "len(X2)"
   ]
  },
  {
   "cell_type": "code",
   "execution_count": 319,
   "id": "69c3a8db",
   "metadata": {},
   "outputs": [
    {
     "data": {
      "text/plain": [
       "[1, 2, 3, 4, 5, 6, 7, 8, 9, 10]"
      ]
     },
     "execution_count": 319,
     "metadata": {},
     "output_type": "execute_result"
    }
   ],
   "source": [
    "X"
   ]
  },
  {
   "cell_type": "code",
   "execution_count": 320,
   "id": "c608b575",
   "metadata": {},
   "outputs": [
    {
     "data": {
      "text/plain": [
       "7"
      ]
     },
     "execution_count": 320,
     "metadata": {},
     "output_type": "execute_result"
    }
   ],
   "source": [
    "X[6]"
   ]
  },
  {
   "cell_type": "code",
   "execution_count": 321,
   "id": "8d04e9ef",
   "metadata": {},
   "outputs": [
    {
     "data": {
      "text/plain": [
       "5"
      ]
     },
     "execution_count": 321,
     "metadata": {},
     "output_type": "execute_result"
    }
   ],
   "source": [
    "X[4]"
   ]
  },
  {
   "cell_type": "markdown",
   "id": "ab876db1",
   "metadata": {},
   "source": [
    "Cada vez que se coloca X[j] estamos indicando al programa que me muestra el elemento de X está en la posición j"
   ]
  },
  {
   "cell_type": "code",
   "execution_count": 322,
   "id": "2755507d",
   "metadata": {},
   "outputs": [
    {
     "data": {
      "text/plain": [
       "3"
      ]
     },
     "execution_count": 322,
     "metadata": {},
     "output_type": "execute_result"
    }
   ],
   "source": [
    "X1[2]"
   ]
  },
  {
   "cell_type": "code",
   "execution_count": 323,
   "id": "5882020e",
   "metadata": {},
   "outputs": [
    {
     "data": {
      "text/plain": [
       "(1, 2, 3, 4, 5, 6, 7, 8, 9, 10)"
      ]
     },
     "execution_count": 323,
     "metadata": {},
     "output_type": "execute_result"
    }
   ],
   "source": [
    "X1"
   ]
  },
  {
   "cell_type": "code",
   "execution_count": 324,
   "id": "237422d7",
   "metadata": {},
   "outputs": [
    {
     "data": {
      "text/plain": [
       "3"
      ]
     },
     "execution_count": 324,
     "metadata": {},
     "output_type": "execute_result"
    }
   ],
   "source": [
    "X1[2]"
   ]
  },
  {
   "cell_type": "code",
   "execution_count": 325,
   "id": "5429680b",
   "metadata": {},
   "outputs": [
    {
     "data": {
      "text/plain": [
       "{'1', '10', '2', '3', '4', '5', '6', '7', '8', '9'}"
      ]
     },
     "execution_count": 325,
     "metadata": {},
     "output_type": "execute_result"
    }
   ],
   "source": [
    "X2"
   ]
  },
  {
   "cell_type": "code",
   "execution_count": 326,
   "id": "e55249cd",
   "metadata": {},
   "outputs": [
    {
     "name": "stdout",
     "output_type": "stream",
     "text": [
      "El número 1 no es divisible por 3 y su resto es 1\n",
      "El número 2 no es divisible por 3 y su resto es 2\n",
      "El número 3 es divisible por 3 y su resto es 0\n",
      "El número 4 no es divisible por 3 y su resto es 1\n",
      "El número 5 no es divisible por 3 y su resto es 2\n",
      "El número 6 es divisible por 3 y su resto es 0\n",
      "El número 7 no es divisible por 3 y su resto es 1\n",
      "El número 8 no es divisible por 3 y su resto es 2\n",
      "El número 9 es divisible por 3 y su resto es 0\n",
      "El número 10 no es divisible por 3 y su resto es 1\n"
     ]
    }
   ],
   "source": [
    "# X = [1,2,3,4,5,6,7,8,9,10]\n",
    "i = 0\n",
    "\n",
    "while i < len(X):\n",
    "    j = X[i]\n",
    "    if j % 3 == 0:\n",
    "        print(f\"El número {j} es divisible por 3 y su resto es 0\")\n",
    "    elif j % 3 == 1:\n",
    "        print(f\"El número {j} no es divisible por 3 y su resto es 1\") \n",
    "    else:\n",
    "        print(f\"El número {j} no es divisible por 3 y su resto es 2\")       \n",
    "    i +=1 # i = i+1    "
   ]
  },
  {
   "cell_type": "code",
   "execution_count": 327,
   "id": "44622588",
   "metadata": {},
   "outputs": [
    {
     "name": "stdout",
     "output_type": "stream",
     "text": [
      "5\n",
      "10\n",
      "15\n",
      "20\n",
      "25\n",
      "30\n",
      "35\n",
      "40\n",
      "45\n"
     ]
    }
   ],
   "source": [
    "continuar = True\n",
    "suma = 0\n",
    "while continuar == True:\n",
    "    suma = suma + 5\n",
    "    print (suma)\n",
    "    if suma == 45:\n",
    "       continuar = False\n",
    "      "
   ]
  },
  {
   "cell_type": "code",
   "execution_count": 328,
   "id": "7997695b",
   "metadata": {},
   "outputs": [
    {
     "ename": "TypeError",
     "evalue": "'set' object is not subscriptable",
     "output_type": "error",
     "traceback": [
      "\u001b[31m---------------------------------------------------------------------------\u001b[39m",
      "\u001b[31mTypeError\u001b[39m                                 Traceback (most recent call last)",
      "\u001b[36mCell\u001b[39m\u001b[36m \u001b[39m\u001b[32mIn[328]\u001b[39m\u001b[32m, line 1\u001b[39m\n\u001b[32m----> \u001b[39m\u001b[32m1\u001b[39m \u001b[43mX2\u001b[49m\u001b[43m[\u001b[49m\u001b[32;43m2\u001b[39;49m\u001b[43m]\u001b[49m\n",
      "\u001b[31mTypeError\u001b[39m: 'set' object is not subscriptable"
     ]
    }
   ],
   "source": [
    "X2[2]"
   ]
  },
  {
   "cell_type": "markdown",
   "id": "aafa616a",
   "metadata": {},
   "source": [
    "Tarea: Inverstigar cómo llamar a un elemento de un conjunto en Python\n",
    "\n",
    "Respuesta :\n",
    "\n",
    "Cómo acceder a los elementos de un conjunto en Python\n",
    "Dado que los conjuntos son colecciones desordenadas, en ellos no se guarda la posición en la que son insertados los elementos como ocurre en los tipos list o tuple. Es por ello que no se puede acceder a los elementos a través de un índice."
   ]
  },
  {
   "cell_type": "markdown",
   "id": "cd0fd3d4",
   "metadata": {},
   "source": [
    "NumPy\n",
    "\n",
    "\n",
    "NumPy es un juego de palabras que significa Python numérico (Numerical Python). Es una librería de código abierto que se utiliza para llevar a cabo tareas matemáticas con altísima eficiencia. Además, introduce estructuras de datos como los arrays multidimensionales, que se pueden operar entre ellos a alto nivel, sin meterse mucho en el detalle.\n"
   ]
  },
  {
   "cell_type": "code",
   "execution_count": null,
   "id": "e43a0267",
   "metadata": {},
   "outputs": [],
   "source": [
    "import numpy as np\n"
   ]
  },
  {
   "cell_type": "code",
   "execution_count": null,
   "id": "277a95df",
   "metadata": {},
   "outputs": [
    {
     "data": {
      "text/plain": [
       "array([10,  9,  8,  7,  6,  5,  4,  3,  2,  1])"
      ]
     },
     "execution_count": 281,
     "metadata": {},
     "output_type": "execute_result"
    }
   ],
   "source": [
    "# Generar un arreglo unidimensional\n",
    "\n",
    "x1 = np.array([10,9,8,7,6,5,4,3,2,1])\n",
    "x1\n"
   ]
  },
  {
   "cell_type": "code",
   "execution_count": null,
   "id": "39cbc1ed",
   "metadata": {},
   "outputs": [
    {
     "data": {
      "text/plain": [
       "np.int64(8)"
      ]
     },
     "execution_count": 282,
     "metadata": {},
     "output_type": "execute_result"
    }
   ],
   "source": [
    "# Observar una posición en particular\n",
    "\n",
    "x1[2]\n"
   ]
  },
  {
   "cell_type": "code",
   "execution_count": null,
   "id": "617d7d08",
   "metadata": {},
   "outputs": [
    {
     "name": "stdout",
     "output_type": "stream",
     "text": [
      "8\n"
     ]
    }
   ],
   "source": [
    "print(x1[2])"
   ]
  },
  {
   "cell_type": "code",
   "execution_count": null,
   "id": "55cba863",
   "metadata": {},
   "outputs": [
    {
     "name": "stdout",
     "output_type": "stream",
     "text": [
      "El valor ubicado en la posición 2 es : 8\n"
     ]
    }
   ],
   "source": [
    "print(f\"El valor ubicado en la posición 2 es : {x1[2]}\")"
   ]
  },
  {
   "cell_type": "code",
   "execution_count": null,
   "id": "56c1aa5f",
   "metadata": {},
   "outputs": [
    {
     "name": "stdout",
     "output_type": "stream",
     "text": [
      "[0 9 8 7 6 5 4 3 2 1]\n"
     ]
    }
   ],
   "source": [
    "# Ajustar un valo r en particular\n",
    "x1[0] = 0\n",
    "\n",
    "print(x1)\n"
   ]
  },
  {
   "cell_type": "code",
   "execution_count": null,
   "id": "f748c1cb",
   "metadata": {},
   "outputs": [
    {
     "data": {
      "text/plain": [
       "array([0, 9, 8, 7, 6, 5, 4, 3, 2, 1])"
      ]
     },
     "execution_count": 286,
     "metadata": {},
     "output_type": "execute_result"
    }
   ],
   "source": [
    "x1"
   ]
  },
  {
   "cell_type": "code",
   "execution_count": null,
   "id": "d77d95ce",
   "metadata": {},
   "outputs": [
    {
     "data": {
      "text/plain": [
       "array([10, 19, 18, 17, 16, 15, 14, 13, 12, 11])"
      ]
     },
     "execution_count": 287,
     "metadata": {},
     "output_type": "execute_result"
    }
   ],
   "source": [
    "# x1 + k; k= 10\n",
    "\n",
    "x1 = x1 + 10\n",
    "x1"
   ]
  },
  {
   "cell_type": "code",
   "execution_count": null,
   "id": "0ec491c8",
   "metadata": {},
   "outputs": [
    {
     "data": {
      "text/plain": [
       "array([20, 29, 28, 27, 26, 25, 24, 23, 22, 21])"
      ]
     },
     "execution_count": 288,
     "metadata": {},
     "output_type": "execute_result"
    }
   ],
   "source": [
    "x1 += 10 # x1 = x1 + 10\n",
    "x1"
   ]
  },
  {
   "cell_type": "code",
   "execution_count": null,
   "id": "8b1c59e7",
   "metadata": {},
   "outputs": [
    {
     "name": "stdout",
     "output_type": "stream",
     "text": [
      "La suma de todos los elementos de x1 es igual a : 245\n"
     ]
    }
   ],
   "source": [
    "# Consolidar los valores de x1 (np.sum())\n",
    "\n",
    "suma_x1 = np.sum(x1)\n",
    "print(f\"La suma de todos los elementos de x1 es igual a : {suma_x1}\")"
   ]
  },
  {
   "cell_type": "code",
   "execution_count": null,
   "id": "7e95ff9a",
   "metadata": {},
   "outputs": [
    {
     "name": "stdout",
     "output_type": "stream",
     "text": [
      " El promedio de los elementos de x1 es: 24.5\n"
     ]
    }
   ],
   "source": [
    "# Calculamos el promedio de los elementos de x1\n",
    "\n",
    "n = len(x1)\n",
    "promedio = suma_x1/n\n",
    "promedio\n",
    "print(f\" El promedio de los elementos de x1 es: {promedio}\")"
   ]
  },
  {
   "cell_type": "code",
   "execution_count": null,
   "id": "e7882832",
   "metadata": {},
   "outputs": [
    {
     "name": "stdout",
     "output_type": "stream",
     "text": [
      "El promedio de los elementos de x1 es igual a: 24.5\n"
     ]
    }
   ],
   "source": [
    "# si usamos la definicon de NumPY (np.mean())\n",
    "\n",
    "print(f\"El promedio de los elementos de x1 es igual a: {np.mean(x1)}\")\n"
   ]
  },
  {
   "cell_type": "code",
   "execution_count": 332,
   "id": "425d153e",
   "metadata": {},
   "outputs": [
    {
     "data": {
      "text/plain": [
       "np.float64(2.8722813232690143)"
      ]
     },
     "execution_count": 332,
     "metadata": {},
     "output_type": "execute_result"
    }
   ],
   "source": [
    "# Desviación Estándar\n",
    "np.std(x1)\n"
   ]
  },
  {
   "cell_type": "code",
   "execution_count": null,
   "id": "f61c4e96",
   "metadata": {},
   "outputs": [
    {
     "data": {
      "text/plain": [
       "array([10, 19, 18, 17, 16, 15, 14, 13, 12, 11])"
      ]
     },
     "execution_count": 295,
     "metadata": {},
     "output_type": "execute_result"
    }
   ],
   "source": [
    "# Operaciones Aritméticas ( (np.add(nomnre del arreglo, numero con el cual operaremos)))\n",
    "# suma en numpy\n",
    "x2 = np.add(x1,-10)\n",
    "x2\n",
    "\n"
   ]
  },
  {
   "cell_type": "code",
   "execution_count": null,
   "id": "3d7dc626",
   "metadata": {},
   "outputs": [
    {
     "data": {
      "text/plain": [
       "array([20, 29, 28, 27, 26, 25, 24, 23, 22, 21])"
      ]
     },
     "execution_count": 296,
     "metadata": {},
     "output_type": "execute_result"
    }
   ],
   "source": [
    "# Multiplicación\n",
    "\n",
    "x1"
   ]
  },
  {
   "cell_type": "code",
   "execution_count": 329,
   "id": "a6222eac",
   "metadata": {},
   "outputs": [
    {
     "data": {
      "text/plain": [
       "array([40, 58, 56, 54, 52, 50, 48, 46, 44, 42])"
      ]
     },
     "execution_count": 329,
     "metadata": {},
     "output_type": "execute_result"
    }
   ],
   "source": [
    "x1*2"
   ]
  },
  {
   "cell_type": "code",
   "execution_count": 330,
   "id": "1448380c",
   "metadata": {},
   "outputs": [
    {
     "data": {
      "text/plain": [
       "array([40, 58, 56, 54, 52, 50, 48, 46, 44, 42])"
      ]
     },
     "execution_count": 330,
     "metadata": {},
     "output_type": "execute_result"
    }
   ],
   "source": [
    "# np.multiply(nombre del arreglo con el cual operaremos)\n",
    "\n",
    "np.multiply(x1,2)"
   ]
  },
  {
   "cell_type": "code",
   "execution_count": null,
   "id": "e4bf94c7",
   "metadata": {},
   "outputs": [
    {
     "data": {
      "text/plain": [
       "np.float64(24.5)"
      ]
     },
     "execution_count": 331,
     "metadata": {},
     "output_type": "execute_result"
    }
   ],
   "source": [
    "# Mediana\n",
    "np.median(x1)\n",
    "\n"
   ]
  },
  {
   "cell_type": "code",
   "execution_count": 333,
   "id": "babd2e21",
   "metadata": {},
   "outputs": [
    {
     "data": {
      "text/plain": [
       "np.float64(8.25)"
      ]
     },
     "execution_count": 333,
     "metadata": {},
     "output_type": "execute_result"
    }
   ],
   "source": [
    "# Varianza np.var()\n",
    "\n",
    "np.var(x1)"
   ]
  },
  {
   "cell_type": "code",
   "execution_count": 339,
   "id": "c29386be",
   "metadata": {},
   "outputs": [
    {
     "name": "stdout",
     "output_type": "stream",
     "text": [
      "El valor mínimo de x1 se ubica en la posición 0\n",
      "El valor más pequeño de x1  es  20\n",
      "El valor máximo de x1 se ubica en la posición  1\n",
      "El valor más grande de x1 es 29\n"
     ]
    }
   ],
   "source": [
    "# Mínimo y Máximo\n",
    "# el comando np.argmin() permite conocer el índice donde se ubica el valor mínimo\n",
    "\n",
    "minimo = np.argmin(x1)\n",
    "print(f\"El valor mínimo de x1 se ubica en la posición {minimo}\")\n",
    "\n",
    "# el valor mínimo del arreglo se busca con np.min()\n",
    "\n",
    "min_x1 = np.min(x1)\n",
    "print(f\"El valor más pequeño de x1  es  {min_x1}\")\n",
    "\n",
    "# Máximo np.argmax()\n",
    "# el comando np.argmax() permite conocer el índice donde se ubica el valor máximo\n",
    "\n",
    "maximo = np.argmax(x1)\n",
    "print(f\"El valor máximo de x1 se ubica en la posición  {maximo}\")\n",
    "\n",
    "# el valor máximo del arreglo se busca con np.max()\n",
    "\n",
    "max_x1 = np.max(x1)\n",
    "print(f\"El valor más grande de x1 es {max_x1}\")"
   ]
  },
  {
   "cell_type": "markdown",
   "id": "4b1bdac1",
   "metadata": {},
   "source": [
    "TAREA Numpy 10-07-25"
   ]
  },
  {
   "cell_type": "markdown",
   "id": "d3708f46",
   "metadata": {},
   "source": [
    "Ejercicio 01: Crea un vector nulo (null vector) que tenga 10 elementos (★☆☆)\n",
    "\n",
    "Un vector nulo es un array de una dimensión compuesto por ceros (0)."
   ]
  },
  {
   "cell_type": "code",
   "execution_count": 1,
   "id": "f9e1b84f",
   "metadata": {},
   "outputs": [
    {
     "data": {
      "text/plain": [
       "array([0., 0., 0., 0., 0., 0., 0., 0., 0., 0.])"
      ]
     },
     "execution_count": 1,
     "metadata": {},
     "output_type": "execute_result"
    }
   ],
   "source": [
    "import numpy as np\n",
    "np.zeros(10)"
   ]
  },
  {
   "cell_type": "markdown",
   "id": "06897982",
   "metadata": {},
   "source": [
    "Ejercicio 02: Crea un vector de unos que tenga 10 elementos (★☆☆)"
   ]
  },
  {
   "cell_type": "code",
   "execution_count": 2,
   "id": "aaa8b06e",
   "metadata": {},
   "outputs": [
    {
     "data": {
      "text/plain": [
       "array([1., 1., 1., 1., 1., 1., 1., 1., 1., 1.])"
      ]
     },
     "execution_count": 2,
     "metadata": {},
     "output_type": "execute_result"
    }
   ],
   "source": [
    "np.ones(10)"
   ]
  },
  {
   "cell_type": "markdown",
   "id": "fcc0030c",
   "metadata": {},
   "source": [
    "Ejercicio 03: Investiga la función linspace de NumPy y crea un array que contenga 10 elementos (★☆☆)"
   ]
  },
  {
   "cell_type": "code",
   "execution_count": 3,
   "id": "24054b9a",
   "metadata": {},
   "outputs": [
    {
     "data": {
      "text/plain": [
       "array([ 1.,  2.,  3.,  4.,  5.,  6.,  7.,  8.,  9., 10.])"
      ]
     },
     "execution_count": 3,
     "metadata": {},
     "output_type": "execute_result"
    }
   ],
   "source": [
    "np.linspace(1.0,10.0, num=10)"
   ]
  },
  {
   "cell_type": "markdown",
   "id": "888e199d",
   "metadata": {},
   "source": [
    "Ejercicio 04: Busca varias formas de generar un array con números aleatorios y crea un array 1D y dos arrays 2D"
   ]
  },
  {
   "cell_type": "code",
   "execution_count": 10,
   "id": "afc3cf77",
   "metadata": {},
   "outputs": [
    {
     "data": {
      "text/plain": [
       "array([4, 3, 3, 1, 4, 3, 3, 0, 3, 2])"
      ]
     },
     "execution_count": 10,
     "metadata": {},
     "output_type": "execute_result"
    }
   ],
   "source": [
    "np.random.randint(5, size = 10)"
   ]
  },
  {
   "cell_type": "code",
   "execution_count": 7,
   "id": "04858b8c",
   "metadata": {},
   "outputs": [
    {
     "data": {
      "text/plain": [
       "array([[0.83884693, 0.38648919, 0.41112324, 0.46376969],\n",
       "       [0.12781349, 0.14094672, 0.57444386, 0.85690755],\n",
       "       [0.93012383, 0.82789674, 0.59936091, 0.83782371],\n",
       "       [0.26052172, 0.51939431, 0.51000578, 0.02907744],\n",
       "       [0.43035773, 0.10908129, 0.88837214, 0.23854952]])"
      ]
     },
     "execution_count": 7,
     "metadata": {},
     "output_type": "execute_result"
    }
   ],
   "source": [
    "import numpy as np\n",
    "np.random.rand(5,4)"
   ]
  },
  {
   "cell_type": "code",
   "execution_count": 6,
   "id": "a8d9bd50",
   "metadata": {},
   "outputs": [
    {
     "data": {
      "text/plain": [
       "array([[ 1.8195512 ,  5.67282227,  1.93090142,  1.54584511],\n",
       "       [ 6.56566561,  1.08333557,  2.53393381, -1.03274296]])"
      ]
     },
     "execution_count": 6,
     "metadata": {},
     "output_type": "execute_result"
    }
   ],
   "source": [
    "3 + 2.5 * np.random.randn(2, 4)"
   ]
  },
  {
   "cell_type": "markdown",
   "id": "bb1966cd",
   "metadata": {},
   "source": [
    "Ejercicio 05: Crea una matriz (array 2D) identidad de 5x5 (★☆☆)"
   ]
  },
  {
   "cell_type": "code",
   "execution_count": 12,
   "id": "ad58fd74",
   "metadata": {},
   "outputs": [
    {
     "data": {
      "text/plain": [
       "array([[1, 0, 0, 0, 0],\n",
       "       [0, 1, 0, 0, 0],\n",
       "       [0, 0, 1, 0, 0],\n",
       "       [0, 0, 0, 1, 0],\n",
       "       [0, 0, 0, 0, 1]])"
      ]
     },
     "execution_count": 12,
     "metadata": {},
     "output_type": "execute_result"
    }
   ],
   "source": [
    "np.eye(5,5, dtype=int)"
   ]
  },
  {
   "cell_type": "markdown",
   "id": "919a1fa8",
   "metadata": {},
   "source": [
    "Ejercicio 06: Crea una matriz con números aleatorios de 3x2 y calcula el valor mínimo y máximo (★☆☆)"
   ]
  },
  {
   "cell_type": "code",
   "execution_count": 22,
   "id": "23c25be0",
   "metadata": {},
   "outputs": [
    {
     "name": "stdout",
     "output_type": "stream",
     "text": [
      "[[0.32804051 0.22716831]\n",
      " [0.76568791 0.11705759]\n",
      " [0.84245746 0.94714417]]\n",
      "El valor Mínimo de la Matriz 3X2 es: 0.11705759041788433\n",
      "El valor Máximo de la Matriz 3x2 es: 0.9471441717626115\n"
     ]
    }
   ],
   "source": [
    "# Valor Mínimo\n",
    "matriz_3x2 = np.random.rand(3,2)\n",
    "print(matriz_3x2)\n",
    "print(f\"El valor Mínimo de la Matriz 3X2 es: {np.min(matriz_3x2)}\")\n",
    "\n",
    "# Valor Máximo\n",
    "print(f\"El valor Máximo de la Matriz 3x2 es: {np.max(matriz_3x2)}\")"
   ]
  },
  {
   "cell_type": "markdown",
   "id": "1260ad5a",
   "metadata": {},
   "source": [
    "Ejercicio 07: Crea un vector con números aleatorios de 30 elementos y calcula la media (★☆☆)\n",
    "\n",
    "NOTA: Revisa la función np.mean (https://numpy.org/doc/stable/reference/generated/numpy.mean.html)"
   ]
  },
  {
   "cell_type": "code",
   "execution_count": 32,
   "id": "8146776f",
   "metadata": {},
   "outputs": [
    {
     "name": "stdout",
     "output_type": "stream",
     "text": [
      "El Vector de números aleatorios es:\n",
      "\n",
      "[[0.55458985 0.40097975 0.02051316 0.74935612 0.82919593 0.92013902\n",
      "  0.15390777 0.32656397 0.40722316 0.74639976 0.76525837 0.3226702\n",
      "  0.57217424 0.07661655 0.17584697 0.32217581 0.80390679 0.65790689\n",
      "  0.46216038 0.24925266 0.52478724 0.4255431  0.1444701  0.81293644\n",
      "  0.29402302 0.6642118  0.87609977 0.01774431 0.12742896 0.72582171]]\n",
      "\n",
      "La Media del vector aletaorio es: 0.47099679291253693 \n"
     ]
    }
   ],
   "source": [
    "a = np.random.rand(1, 30)\n",
    "print(\"El Vector de números aleatorios es:\")\n",
    "print(\"\")\n",
    "print(a)\n",
    "print(\"\")\n",
    "print(f\"La Media del vector aletaorio es: {np.mean(a)} \")"
   ]
  }
 ],
 "metadata": {
  "kernelspec": {
   "display_name": "Python 3",
   "language": "python",
   "name": "python3"
  },
  "language_info": {
   "codemirror_mode": {
    "name": "ipython",
    "version": 3
   },
   "file_extension": ".py",
   "mimetype": "text/x-python",
   "name": "python",
   "nbconvert_exporter": "python",
   "pygments_lexer": "ipython3",
   "version": "3.12.1"
  }
 },
 "nbformat": 4,
 "nbformat_minor": 5
}
