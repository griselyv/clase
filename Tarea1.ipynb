{
 "cells": [
  {
   "cell_type": "markdown",
   "id": "98233488",
   "metadata": {},
   "source": [
    "TAREA 1 Numpy 10-07-25"
   ]
  },
  {
   "cell_type": "markdown",
   "id": "a13ea663",
   "metadata": {},
   "source": [
    "Ejercicio 01: Crea un vector nulo (null vector) que tenga 10 elementos (★☆☆)\n",
    "\n",
    "Un vector nulo es un array de una dimensión compuesto por ceros (0).\n",
    "NOTA: Revisa la función np.zeros (https://numpy.org/doc/stable/reference/generated/numpy.zeros.html)\n",
    "\n"
   ]
  },
  {
   "cell_type": "code",
   "execution_count": 2,
   "id": "eeb022b5",
   "metadata": {},
   "outputs": [
    {
     "data": {
      "text/plain": [
       "array([0., 0., 0., 0., 0., 0., 0., 0., 0., 0.])"
      ]
     },
     "execution_count": 2,
     "metadata": {},
     "output_type": "execute_result"
    }
   ],
   "source": [
    "import numpy as np\n",
    "np.zeros(10)"
   ]
  },
  {
   "cell_type": "markdown",
   "id": "17a95d91",
   "metadata": {},
   "source": [
    "Ejercicio 02: Crea un vector de unos que tenga 10 elementos (★☆☆)\n",
    "\n",
    "NOTA: Revisa la función np.ones (https://numpy.org/doc/stable/reference/generated/numpy.ones.html)"
   ]
  },
  {
   "cell_type": "code",
   "execution_count": 3,
   "id": "bb6f72dc",
   "metadata": {},
   "outputs": [
    {
     "data": {
      "text/plain": [
       "array([1., 1., 1., 1., 1., 1., 1., 1., 1., 1.])"
      ]
     },
     "execution_count": 3,
     "metadata": {},
     "output_type": "execute_result"
    }
   ],
   "source": [
    "np.ones(10)"
   ]
  },
  {
   "cell_type": "markdown",
   "id": "6620c2c3",
   "metadata": {},
   "source": [
    "Ejercicio 03: Investiga la función linspace de NumPy y crea un array que contenga 10 elementos (★☆☆)\n",
    "\n",
    "NOTA: Revisa la función np.linspace (https://numpy.org/doc/stable/reference/generated/numpy.linspace.html)"
   ]
  },
  {
   "cell_type": "code",
   "execution_count": 4,
   "id": "cf6c8e1d",
   "metadata": {},
   "outputs": [
    {
     "data": {
      "text/plain": [
       "array([ 1.,  2.,  3.,  4.,  5.,  6.,  7.,  8.,  9., 10.])"
      ]
     },
     "execution_count": 4,
     "metadata": {},
     "output_type": "execute_result"
    }
   ],
   "source": [
    "np.linspace(1.0,10.0, num=10)"
   ]
  },
  {
   "cell_type": "markdown",
   "id": "7c45011e",
   "metadata": {},
   "source": [
    "Ejercicio 04: Busca varias formas de generar un array con números aleatorios y crea un array 1D y dos arrays 2D\n",
    "NOTA: Revisa las funciones np.random.rand (https://numpy.org/doc/stable/reference/random/generated/numpy.random.rand.html),\n",
    "\n",
    " np.random.randint (https://numpy.org/doc/stable/reference/random/generated/numpy.random.randint.html) y \n",
    " \n",
    " np.random.randn (https://numpy.org/doc/stable/reference/random/generated/numpy.random.randn.html)"
   ]
  },
  {
   "cell_type": "code",
   "execution_count": 5,
   "id": "087d00a5",
   "metadata": {},
   "outputs": [
    {
     "data": {
      "text/plain": [
       "array([2, 3, 4, 1, 1, 2, 4, 4, 2, 1])"
      ]
     },
     "execution_count": 5,
     "metadata": {},
     "output_type": "execute_result"
    }
   ],
   "source": [
    "np.random.randint(5, size = 10)"
   ]
  },
  {
   "cell_type": "code",
   "execution_count": 6,
   "id": "6e46db92",
   "metadata": {},
   "outputs": [
    {
     "data": {
      "text/plain": [
       "array([[0.16660168, 0.83634101, 0.73683715, 0.28216289],\n",
       "       [0.87730543, 0.17417217, 0.30271535, 0.94698059],\n",
       "       [0.19335935, 0.24300121, 0.31245606, 0.18166342],\n",
       "       [0.39173398, 0.4541753 , 0.04256499, 0.63170955],\n",
       "       [0.68217411, 0.21587686, 0.35341977, 0.13612586]])"
      ]
     },
     "execution_count": 6,
     "metadata": {},
     "output_type": "execute_result"
    }
   ],
   "source": [
    "import numpy as np\n",
    "np.random.rand(5,4)"
   ]
  },
  {
   "cell_type": "code",
   "execution_count": 7,
   "id": "3add76b1",
   "metadata": {},
   "outputs": [
    {
     "data": {
      "text/plain": [
       "array([[ 3.47832553,  1.3285611 , -0.42105679, -1.82983193],\n",
       "       [-1.31838801,  4.05562284, -0.44879577,  1.56122044]])"
      ]
     },
     "execution_count": 7,
     "metadata": {},
     "output_type": "execute_result"
    }
   ],
   "source": [
    "3 + 2.5 * np.random.randn(2, 4)"
   ]
  },
  {
   "cell_type": "markdown",
   "id": "c8cd984a",
   "metadata": {},
   "source": [
    "Ejercicio 05: Crea una matriz (array 2D) identidad de 5x5 (★☆☆)\n",
    "\n",
    "NOTA: Revisa la función np.eye(https://numpy.org/devdocs/reference/generated/numpy.eye.html)"
   ]
  },
  {
   "cell_type": "code",
   "execution_count": 8,
   "id": "4da9097e",
   "metadata": {},
   "outputs": [
    {
     "data": {
      "text/plain": [
       "array([[1, 0, 0, 0, 0],\n",
       "       [0, 1, 0, 0, 0],\n",
       "       [0, 0, 1, 0, 0],\n",
       "       [0, 0, 0, 1, 0],\n",
       "       [0, 0, 0, 0, 1]])"
      ]
     },
     "execution_count": 8,
     "metadata": {},
     "output_type": "execute_result"
    }
   ],
   "source": [
    "np.eye(5,5, dtype=int)"
   ]
  },
  {
   "cell_type": "markdown",
   "id": "3c8551c5",
   "metadata": {},
   "source": [
    "Ejercicio 06: Crea una matriz con números aleatorios de 3x2 y calcula el valor mínimo y máximo (★☆☆)\n",
    "\n",
    "NOTA: Revisa la función np.min (https://numpy.org/devdocs/reference/generated/numpy.min.html) y np.max (https://numpy.org/devdocs/reference/generated/numpy.max.html)"
   ]
  },
  {
   "cell_type": "code",
   "execution_count": 9,
   "id": "725bd336",
   "metadata": {},
   "outputs": [
    {
     "name": "stdout",
     "output_type": "stream",
     "text": [
      "[[0.09317122 0.62744147]\n",
      " [0.81166552 0.67206197]\n",
      " [0.29942258 0.88438946]]\n",
      "El valor Mínimo de la Matriz 3X2 es: 0.09317122313568604\n",
      "El valor Máximo de la Matriz 3x2 es: 0.8843894566855216\n"
     ]
    }
   ],
   "source": [
    "# Valor Mínimo\n",
    "matriz_3x2 = np.random.rand(3,2)\n",
    "print(matriz_3x2)\n",
    "print(f\"El valor Mínimo de la Matriz 3X2 es: {np.min(matriz_3x2)}\")\n",
    "\n",
    "# Valor Máximo\n",
    "print(f\"El valor Máximo de la Matriz 3x2 es: {np.max(matriz_3x2)}\")"
   ]
  },
  {
   "cell_type": "markdown",
   "id": "0ab6fc5e",
   "metadata": {},
   "source": [
    "Ejercicio 07: Crea un vector con números aleatorios de 30 elementos y calcula la media (★☆☆)\n",
    "\n",
    "NOTA: Revisa la función np.mean (https://numpy.org/doc/stable/reference/generated/numpy.mean.html)"
   ]
  },
  {
   "cell_type": "code",
   "execution_count": 10,
   "id": "da71604c",
   "metadata": {},
   "outputs": [
    {
     "name": "stdout",
     "output_type": "stream",
     "text": [
      "El Vector de números aleatorios es:\n",
      "\n",
      "[[0.24115345 0.44611636 0.23653195 0.89755885 0.07802776 0.92765355\n",
      "  0.23866825 0.28144429 0.28824731 0.06650952 0.33630687 0.91083799\n",
      "  0.24810039 0.63225547 0.01215513 0.88253125 0.40166875 0.9201406\n",
      "  0.33113773 0.7978972  0.3488664  0.03877615 0.09464309 0.02228125\n",
      "  0.36149403 0.05881891 0.75054229 0.38418473 0.25154381 0.57941908]]\n",
      "\n",
      "La Media del vector aletaorio es: 0.4021837476977686 \n"
     ]
    }
   ],
   "source": [
    "a = np.random.rand(1, 30)\n",
    "print(\"El Vector de números aleatorios es:\")\n",
    "print(\"\")\n",
    "print(a)\n",
    "print(\"\")\n",
    "print(f\"La Media del vector aletaorio es: {np.mean(a)} \")"
   ]
  },
  {
   "cell_type": "markdown",
   "id": "c013a076",
   "metadata": {},
   "source": [
    "Ejercicio 08: Convierte la lista [1, 2, 3] y la tupla (1, 2, 3) en arrays (★☆☆)"
   ]
  },
  {
   "cell_type": "code",
   "execution_count": 11,
   "id": "aa4c2d22",
   "metadata": {},
   "outputs": [
    {
     "name": "stdout",
     "output_type": "stream",
     "text": [
      "La lista convertida en arreglo es:[1 2 3]\n",
      "\n",
      "La tupla convertida en arreglo es:[1 2 3]\n",
      "\n"
     ]
    }
   ],
   "source": [
    "l = [1, 2, 3]\n",
    "t = (1, 2, 3)\n",
    "\n",
    "al = np.array (l)\n",
    "print(f\"La lista convertida en arreglo es:{al}\")\n",
    "print(\"\")\n",
    "at = np.array(t)\n",
    "print(f\"La tupla convertida en arreglo es:{at}\")\n",
    "print(\"\")"
   ]
  },
  {
   "cell_type": "markdown",
   "id": "abf8da3c",
   "metadata": {},
   "source": [
    "Ejercicio 09: Invierte el vector del ejercicio anterior (★☆☆)\n",
    "\n",
    "NOTA: Revisa la función np.flip (https://numpy.org/doc/stable/reference/generated/numpy.flip.html)"
   ]
  },
  {
   "cell_type": "code",
   "execution_count": 12,
   "id": "5b9d5003",
   "metadata": {},
   "outputs": [
    {
     "name": "stdout",
     "output_type": "stream",
     "text": [
      "El Vector de números aleatorios es:\n",
      "\n",
      "[[0.06295618 0.81980724 0.32960457 0.48225658 0.84483017 0.61475331\n",
      "  0.5285665  0.44343259 0.75853655 0.26652016 0.49491727 0.62868877\n",
      "  0.53317357 0.65618612 0.84086356 0.20550718 0.00898892 0.99848151\n",
      "  0.56992073 0.46202205 0.01615096 0.49520622 0.81723136 0.41669179\n",
      "  0.28947584 0.44908516 0.61284008 0.75732489 0.86853136 0.63658754]]\n",
      "\n",
      "El Vector invertido es:\n",
      "\n",
      "[[0.63658754 0.86853136 0.75732489 0.61284008 0.44908516 0.28947584\n",
      "  0.41669179 0.81723136 0.49520622 0.01615096 0.46202205 0.56992073\n",
      "  0.99848151 0.00898892 0.20550718 0.84086356 0.65618612 0.53317357\n",
      "  0.62868877 0.49491727 0.26652016 0.75853655 0.44343259 0.5285665\n",
      "  0.61475331 0.84483017 0.48225658 0.32960457 0.81980724 0.06295618]]\n"
     ]
    }
   ],
   "source": [
    "import numpy as np\n",
    "a = np.random.rand(1, 30)\n",
    "b = np.flip(a,1)\n",
    "print(\"El Vector de números aleatorios es:\")\n",
    "print(\"\")\n",
    "print(a)\n",
    "print(\"\")\n",
    "print(\"El Vector invertido es:\")\n",
    "print(\"\")\n",
    "print(b)"
   ]
  },
  {
   "cell_type": "markdown",
   "id": "bb21ff67",
   "metadata": {},
   "source": [
    "Ejercicio 10: Cambia el tamaño de un array aleatorio de dimensiones 5x12 en 12x5 (★☆☆)\n",
    "\n",
    "NOTA: Revisa la función np.reshape (https://numpy.org/doc/stable/reference/generated/numpy.reshape.html)"
   ]
  },
  {
   "cell_type": "code",
   "execution_count": 13,
   "id": "70f7cc9b",
   "metadata": {},
   "outputs": [
    {
     "name": "stdout",
     "output_type": "stream",
     "text": [
      "El Arreglo aleatorio de dimensiones 5x12 es:\n",
      "\n",
      "[[0.11554037 0.49640417 0.21601679 0.79183161 0.346195   0.02408526\n",
      "  0.29529969 0.99669245 0.40740246 0.9336924  0.77305095 0.7107949 ]\n",
      " [0.66626638 0.1389828  0.92394817 0.32498733 0.31039938 0.34567007\n",
      "  0.88256025 0.17777177 0.16649517 0.23466214 0.91287617 0.90650527]\n",
      " [0.79883389 0.79467183 0.50106049 0.76094798 0.93066016 0.44751567\n",
      "  0.44677003 0.26784532 0.50314558 0.47146857 0.85626861 0.69893895]\n",
      " [0.14760923 0.31419196 0.32766614 0.11453634 0.24819086 0.46105339\n",
      "  0.16995628 0.07251286 0.9176717  0.27534042 0.37308754 0.67048797]\n",
      " [0.60335849 0.39755575 0.26960243 0.87283045 0.11135969 0.88563724\n",
      "  0.1799887  0.32203647 0.89086527 0.59482201 0.52236334 0.71936366]]\n",
      "\n",
      "El Arreglo aleatorio cambiado a las dimensiones 12x5 es:\n",
      "\n",
      "[[0.11554037 0.49640417 0.21601679 0.79183161 0.346195  ]\n",
      " [0.02408526 0.29529969 0.99669245 0.40740246 0.9336924 ]\n",
      " [0.77305095 0.7107949  0.66626638 0.1389828  0.92394817]\n",
      " [0.32498733 0.31039938 0.34567007 0.88256025 0.17777177]\n",
      " [0.16649517 0.23466214 0.91287617 0.90650527 0.79883389]\n",
      " [0.79467183 0.50106049 0.76094798 0.93066016 0.44751567]\n",
      " [0.44677003 0.26784532 0.50314558 0.47146857 0.85626861]\n",
      " [0.69893895 0.14760923 0.31419196 0.32766614 0.11453634]\n",
      " [0.24819086 0.46105339 0.16995628 0.07251286 0.9176717 ]\n",
      " [0.27534042 0.37308754 0.67048797 0.60335849 0.39755575]\n",
      " [0.26960243 0.87283045 0.11135969 0.88563724 0.1799887 ]\n",
      " [0.32203647 0.89086527 0.59482201 0.52236334 0.71936366]]\n"
     ]
    }
   ],
   "source": [
    "a = np.random.rand(5,12)\n",
    "b = np.reshape(a,(12,5))\n",
    "print(\"El Arreglo aleatorio de dimensiones 5x12 es:\")\n",
    "print(\"\")\n",
    "print(a)\n",
    "print(\"\")\n",
    "print(\"El Arreglo aleatorio cambiado a las dimensiones 12x5 es:\")\n",
    "print(\"\")\n",
    "print(b)"
   ]
  },
  {
   "cell_type": "markdown",
   "id": "afe298c8",
   "metadata": {},
   "source": [
    "Ejercicio 11: Convierte la lista [1, 2, 0, 0, 4, 0] en un array y obtén el índice de los elementos que no son cero (★★☆)\n",
    "\n",
    "NOTA: Revisa la función np.where (https://numpy.org/devdocs/reference/generated/numpy.where.html)"
   ]
  },
  {
   "cell_type": "code",
   "execution_count": 14,
   "id": "d788adc0",
   "metadata": {},
   "outputs": [
    {
     "name": "stdout",
     "output_type": "stream",
     "text": [
      "El Arreglo obtenido de la lista [1,2,0,0,4,0] es:\n",
      "\n",
      "El índice de los elementos diferentes de cero son: (array([0, 1, 4]),)\n"
     ]
    }
   ],
   "source": [
    "l = [1,2,0,0,4,0]\n",
    "a = np.array(l)\n",
    "print(\"El Arreglo obtenido de la lista [1,2,0,0,4,0] es:\")\n",
    "print(\"\")\n",
    "a\n",
    "print(f\"El índice de los elementos diferentes de cero son: {np.nonzero(a)}\")"
   ]
  },
  {
   "cell_type": "markdown",
   "id": "32cee98a",
   "metadata": {},
   "source": [
    "Ejercicio 12: Convierte la lista [0, 5, -1, 3, 15] en un array, multiplica sus valores por -2 y obtén los elementos pares (★★☆)"
   ]
  },
  {
   "cell_type": "code",
   "execution_count": 15,
   "id": "b1ba9cac",
   "metadata": {},
   "outputs": [
    {
     "name": "stdout",
     "output_type": "stream",
     "text": [
      "El Arreglo obtenido de la lista [0, 5, -1, 3, 15] es:\n",
      "\n",
      "Los elementos pares son: [  0 -10   2  -6 -30]\n"
     ]
    }
   ],
   "source": [
    "l = [0, 5, -1, 3, 15]\n",
    "a = np.array(l)\n",
    "a = a*(-2)\n",
    "print(\"El Arreglo obtenido de la lista [0, 5, -1, 3, 15] es:\")\n",
    "print(\"\")\n",
    "a\n",
    "print(f\"Los elementos pares son: {a}\")\n",
    "\n"
   ]
  },
  {
   "cell_type": "markdown",
   "id": "9e8126cf",
   "metadata": {},
   "source": [
    "Ejercicio 13: Crea un vector aleatorio de 10 elementos y ordénalo de menor a mayor (★★☆)\n",
    "\n",
    "NOTA: Revisa la función np.sort (https://numpy.org/doc/stable/reference/generated/numpy.sort.html)"
   ]
  },
  {
   "cell_type": "code",
   "execution_count": 16,
   "id": "5ad025b4",
   "metadata": {},
   "outputs": [
    {
     "name": "stdout",
     "output_type": "stream",
     "text": [
      "El Vector aleatorio de 10 elementos es: [[0.37346489 0.03709916 0.54760046 0.47541867 0.82782702 0.88055151\n",
      "  0.53316992 0.63209074 0.95544108 0.27691171]]\n",
      "\n",
      "El Vector ordenado de menor a mayor es: [[0.03709916 0.27691171 0.37346489 0.47541867 0.53316992 0.54760046\n",
      "  0.63209074 0.82782702 0.88055151 0.95544108]]\n",
      "\n"
     ]
    }
   ],
   "source": [
    "a = np.random.rand(1, 10)\n",
    "print(f\"El Vector aleatorio de 10 elementos es: {a}\")\n",
    "print(\"\")\n",
    "b = np.sort(a)\n",
    "print(f\"El Vector ordenado de menor a mayor es: {b}\")\n",
    "print(\"\")\n"
   ]
  },
  {
   "cell_type": "markdown",
   "id": "25b0b0a3",
   "metadata": {},
   "source": [
    "Ejercicio 14: Genera dos vectores aleatorios de 8 elementos y aplica las operaciones de suma, resta y multiplicación entre ellos (★★☆)\n",
    "\n",
    "NOTA: Revisa las funciones matemáticas: https://numpy.org/doc/stable/reference/routines.math.html"
   ]
  },
  {
   "cell_type": "code",
   "execution_count": 24,
   "id": "b83ef5c6",
   "metadata": {},
   "outputs": [
    {
     "name": "stdout",
     "output_type": "stream",
     "text": [
      "El resultado de la suma de los vectores es: 10.072884520406312\n",
      "\n",
      "El resultado de la resta de los vectores es: [[-0.10813749  0.47278463 -0.16849286  0.11662507 -0.57832265  0.74696619\n",
      "  -0.51529267]]\n",
      "\n",
      "El resultado de la multiplicación de los vectores es: 5.325569129201237e-05\n"
     ]
    }
   ],
   "source": [
    "a = np.random.rand(1, 8)\n",
    "b = np.random.rand(1, 8)\n",
    "\n",
    "s = np.sum(a)+np.sum(b)\n",
    "print(f\"El resultado de la suma de los vectores es: {s}\")\n",
    "print(\"\")\n",
    "\n",
    "d = np.diff(a)-np.diff(b)\n",
    "print(f\"El resultado de la resta de los vectores es: {d}\")\n",
    "print(\"\")\n",
    "\n",
    "p = np.prod(a)*np.prod(b)\n",
    "print(f\"El resultado de la multiplicación de los vectores es: {p}\")\n"
   ]
  },
  {
   "cell_type": "code",
   "execution_count": 28,
   "id": "292c1f6f",
   "metadata": {},
   "outputs": [
    {
     "name": "stdout",
     "output_type": "stream",
     "text": [
      "[[1.46425075 1.06004225 0.93695047 0.40688272 1.72679148 1.2868306\n",
      "  1.80962944 1.38150682]]\n"
     ]
    }
   ],
   "source": [
    "suma = a+b\n",
    "print(suma)\n"
   ]
  },
  {
   "cell_type": "code",
   "execution_count": 26,
   "id": "27b3f128",
   "metadata": {},
   "outputs": [
    {
     "name": "stdout",
     "output_type": "stream",
     "text": [
      "[[-0.41196458 -0.52010207 -0.04731744 -0.2158103  -0.09918523 -0.67750788\n",
      "   0.06945831 -0.44583436]]\n"
     ]
    }
   ],
   "source": [
    "resta = a - b\n",
    "print(resta)"
   ]
  },
  {
   "cell_type": "code",
   "execution_count": 27,
   "id": "a90520c7",
   "metadata": {},
   "outputs": [
    {
     "name": "stdout",
     "output_type": "stream",
     "text": [
      "[[0.49357886 0.21329585 0.21890931 0.02974487 0.74299277 0.29922901\n",
      "  0.81748356 0.4274482 ]]\n"
     ]
    }
   ],
   "source": [
    "prod = a*b\n",
    "print(prod)"
   ]
  },
  {
   "cell_type": "markdown",
   "id": "0d4683eb",
   "metadata": {},
   "source": [
    "Ejercicio 15: Convierte la lista [1, 2, 3, 4, 5, 6, 7, 8, 9, 10, 11, 12] en un array y transfórmalo en una matriz con filas de 3 columnas (★★★)"
   ]
  },
  {
   "cell_type": "code",
   "execution_count": 19,
   "id": "7807fcd2",
   "metadata": {},
   "outputs": [
    {
     "name": "stdout",
     "output_type": "stream",
     "text": [
      "El Arreglo obtenido de la lista [1, 2, 3, 4, 5, 6, 7, 8, 9, 10, 11, 12] es:\n",
      "\n",
      "[ 1  2  3  4  5  6  7  8  9 10 11 12]\n",
      "\n",
      "La matriz transformada en filas de 3 columnas es:\n"
     ]
    },
    {
     "data": {
      "text/plain": [
       "array([[ 1,  2,  3],\n",
       "       [ 4,  5,  6],\n",
       "       [ 7,  8,  9],\n",
       "       [10, 11, 12]])"
      ]
     },
     "execution_count": 19,
     "metadata": {},
     "output_type": "execute_result"
    }
   ],
   "source": [
    "l = [1, 2, 3, 4, 5, 6, 7, 8, 9, 10, 11, 12]\n",
    "a = np.array(l)\n",
    "print(\"El Arreglo obtenido de la lista [1, 2, 3, 4, 5, 6, 7, 8, 9, 10, 11, 12] es:\")\n",
    "print(\"\")\n",
    "print(a)\n",
    "print(\"\")\n",
    "b = np.reshape(a, (4,3))\n",
    "print(\"La matriz transformada en filas de 3 columnas es:\")\n",
    "\n",
    "b\n"
   ]
  }
 ],
 "metadata": {
  "kernelspec": {
   "display_name": "Python 3",
   "language": "python",
   "name": "python3"
  },
  "language_info": {
   "codemirror_mode": {
    "name": "ipython",
    "version": 3
   },
   "file_extension": ".py",
   "mimetype": "text/x-python",
   "name": "python",
   "nbconvert_exporter": "python",
   "pygments_lexer": "ipython3",
   "version": "3.12.1"
  }
 },
 "nbformat": 4,
 "nbformat_minor": 5
}
